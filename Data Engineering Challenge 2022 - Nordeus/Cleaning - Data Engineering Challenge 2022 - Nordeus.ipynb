{
 "cells": [
  {
   "cell_type": "code",
   "execution_count": 44,
   "metadata": {},
   "outputs": [],
   "source": [
    "import pandas as pd\n",
    "import json\n",
    "from IPython.display import display\n",
    "\n",
    "pd.set_option('display.max_rows', None) #pri ispisu se prikazuju svi redovi"
   ]
  },
  {
   "cell_type": "markdown",
   "metadata": {},
   "source": [
    "Ucitavanje podataka i ispisivanje osnovnih informacija o njima."
   ]
  },
  {
   "cell_type": "code",
   "execution_count": 45,
   "metadata": {
    "scrolled": true
   },
   "outputs": [
    {
     "data": {
      "text/html": [
       "<div>\n",
       "<style scoped>\n",
       "    .dataframe tbody tr th:only-of-type {\n",
       "        vertical-align: middle;\n",
       "    }\n",
       "\n",
       "    .dataframe tbody tr th {\n",
       "        vertical-align: top;\n",
       "    }\n",
       "\n",
       "    .dataframe thead th {\n",
       "        text-align: right;\n",
       "    }\n",
       "</style>\n",
       "<table border=\"1\" class=\"dataframe\">\n",
       "  <thead>\n",
       "    <tr style=\"text-align: right;\">\n",
       "      <th></th>\n",
       "      <th>event_id</th>\n",
       "      <th>event_type</th>\n",
       "      <th>event_timestamp</th>\n",
       "      <th>event_data.user_id</th>\n",
       "      <th>event_data.transaction_currency</th>\n",
       "      <th>event_data.transaction_amount</th>\n",
       "      <th>event_data.country</th>\n",
       "      <th>event_data.name</th>\n",
       "      <th>event_data.device_os</th>\n",
       "    </tr>\n",
       "  </thead>\n",
       "  <tbody>\n",
       "    <tr>\n",
       "      <th>0</th>\n",
       "      <td>28039</td>\n",
       "      <td>transaction</td>\n",
       "      <td>1.274573e+09</td>\n",
       "      <td>36835c60-5bcb-11ed-84c2-8afbeb371208</td>\n",
       "      <td>EUR</td>\n",
       "      <td>1.99</td>\n",
       "      <td>NaN</td>\n",
       "      <td>NaN</td>\n",
       "      <td>NaN</td>\n",
       "    </tr>\n",
       "    <tr>\n",
       "      <th>1</th>\n",
       "      <td>11528</td>\n",
       "      <td>login</td>\n",
       "      <td>1.274313e+09</td>\n",
       "      <td>1b53b16a-5bcb-11ed-84c2-8afbeb371208</td>\n",
       "      <td>NaN</td>\n",
       "      <td>NaN</td>\n",
       "      <td>NaN</td>\n",
       "      <td>NaN</td>\n",
       "      <td>NaN</td>\n",
       "    </tr>\n",
       "    <tr>\n",
       "      <th>2</th>\n",
       "      <td>13381</td>\n",
       "      <td>login</td>\n",
       "      <td>1.274400e+09</td>\n",
       "      <td>17f29360-5bcb-11ed-84c2-8afbeb371208</td>\n",
       "      <td>NaN</td>\n",
       "      <td>NaN</td>\n",
       "      <td>NaN</td>\n",
       "      <td>NaN</td>\n",
       "      <td>NaN</td>\n",
       "    </tr>\n",
       "    <tr>\n",
       "      <th>3</th>\n",
       "      <td>8075</td>\n",
       "      <td>login</td>\n",
       "      <td>1.273881e+09</td>\n",
       "      <td>184d5566-5bcb-11ed-84c2-8afbeb371208</td>\n",
       "      <td>NaN</td>\n",
       "      <td>NaN</td>\n",
       "      <td>NaN</td>\n",
       "      <td>NaN</td>\n",
       "      <td>NaN</td>\n",
       "    </tr>\n",
       "    <tr>\n",
       "      <th>4</th>\n",
       "      <td>4340</td>\n",
       "      <td>registration</td>\n",
       "      <td>1.274462e+09</td>\n",
       "      <td>361d78d2-5bcb-11ed-84c2-8afbeb371208</td>\n",
       "      <td>NaN</td>\n",
       "      <td>NaN</td>\n",
       "      <td>DE</td>\n",
       "      <td>Ing. Ekkehard Gude</td>\n",
       "      <td>Android</td>\n",
       "    </tr>\n",
       "  </tbody>\n",
       "</table>\n",
       "</div>"
      ],
      "text/plain": [
       "   event_id    event_type  event_timestamp  \\\n",
       "0     28039   transaction     1.274573e+09   \n",
       "1     11528         login     1.274313e+09   \n",
       "2     13381         login     1.274400e+09   \n",
       "3      8075         login     1.273881e+09   \n",
       "4      4340  registration     1.274462e+09   \n",
       "\n",
       "                     event_data.user_id event_data.transaction_currency  \\\n",
       "0  36835c60-5bcb-11ed-84c2-8afbeb371208                             EUR   \n",
       "1  1b53b16a-5bcb-11ed-84c2-8afbeb371208                             NaN   \n",
       "2  17f29360-5bcb-11ed-84c2-8afbeb371208                             NaN   \n",
       "3  184d5566-5bcb-11ed-84c2-8afbeb371208                             NaN   \n",
       "4  361d78d2-5bcb-11ed-84c2-8afbeb371208                             NaN   \n",
       "\n",
       "   event_data.transaction_amount event_data.country     event_data.name  \\\n",
       "0                           1.99                NaN                 NaN   \n",
       "1                            NaN                NaN                 NaN   \n",
       "2                            NaN                NaN                 NaN   \n",
       "3                            NaN                NaN                 NaN   \n",
       "4                            NaN                 DE  Ing. Ekkehard Gude   \n",
       "\n",
       "  event_data.device_os  \n",
       "0                  NaN  \n",
       "1                  NaN  \n",
       "2                  NaN  \n",
       "3                  NaN  \n",
       "4              Android  "
      ]
     },
     "metadata": {},
     "output_type": "display_data"
    },
    {
     "name": "stdout",
     "output_type": "stream",
     "text": [
      "<class 'pandas.core.frame.DataFrame'>\n",
      "RangeIndex: 28053 entries, 0 to 28052\n",
      "Data columns (total 9 columns):\n",
      " #   Column                           Non-Null Count  Dtype  \n",
      "---  ------                           --------------  -----  \n",
      " 0   event_id                         28053 non-null  int64  \n",
      " 1   event_type                       28052 non-null  object \n",
      " 2   event_timestamp                  28051 non-null  float64\n",
      " 3   event_data.user_id               28051 non-null  object \n",
      " 4   event_data.transaction_currency  634 non-null    object \n",
      " 5   event_data.transaction_amount    634 non-null    float64\n",
      " 6   event_data.country               7492 non-null   object \n",
      " 7   event_data.name                  7492 non-null   object \n",
      " 8   event_data.device_os             7492 non-null   object \n",
      "dtypes: float64(2), int64(1), object(6)\n",
      "memory usage: 1.9+ MB\n"
     ]
    }
   ],
   "source": [
    "with open('2. events.jsonl') as f:\n",
    "    eventsJson = [json.loads(line) for line in f]\n",
    "\n",
    "events = pd.json_normalize(eventsJson)\n",
    "\n",
    "display(events.head())\n",
    "events.info()"
   ]
  },
  {
   "cell_type": "markdown",
   "metadata": {},
   "source": [
    "Od interesa su samo dogadjaji logovanja, registracije i transakcije. Pronadjimo sve dogadjaje koje nisu medju njima."
   ]
  },
  {
   "cell_type": "code",
   "execution_count": 46,
   "metadata": {},
   "outputs": [
    {
     "data": {
      "text/html": [
       "<div>\n",
       "<style scoped>\n",
       "    .dataframe tbody tr th:only-of-type {\n",
       "        vertical-align: middle;\n",
       "    }\n",
       "\n",
       "    .dataframe tbody tr th {\n",
       "        vertical-align: top;\n",
       "    }\n",
       "\n",
       "    .dataframe thead th {\n",
       "        text-align: right;\n",
       "    }\n",
       "</style>\n",
       "<table border=\"1\" class=\"dataframe\">\n",
       "  <thead>\n",
       "    <tr style=\"text-align: right;\">\n",
       "      <th></th>\n",
       "      <th>event_id</th>\n",
       "      <th>event_type</th>\n",
       "      <th>event_timestamp</th>\n",
       "      <th>event_data.user_id</th>\n",
       "      <th>event_data.transaction_currency</th>\n",
       "      <th>event_data.transaction_amount</th>\n",
       "      <th>event_data.country</th>\n",
       "      <th>event_data.name</th>\n",
       "      <th>event_data.device_os</th>\n",
       "    </tr>\n",
       "  </thead>\n",
       "  <tbody>\n",
       "    <tr>\n",
       "      <th>23309</th>\n",
       "      <td>2075116</td>\n",
       "      <td>concert</td>\n",
       "      <td>1.274572e+10</td>\n",
       "      <td>2cb2e110-5bcb-11ed-84c2-8afbeb371208</td>\n",
       "      <td>NaN</td>\n",
       "      <td>NaN</td>\n",
       "      <td>NaN</td>\n",
       "      <td>NaN</td>\n",
       "      <td>NaN</td>\n",
       "    </tr>\n",
       "    <tr>\n",
       "      <th>26374</th>\n",
       "      <td>19283330</td>\n",
       "      <td>new_years_eve</td>\n",
       "      <td>1.274486e+09</td>\n",
       "      <td>2b16f152-5bcb-11ed-84c2-8afbeb371208</td>\n",
       "      <td>NaN</td>\n",
       "      <td>NaN</td>\n",
       "      <td>NaN</td>\n",
       "      <td>NaN</td>\n",
       "      <td>NaN</td>\n",
       "    </tr>\n",
       "    <tr>\n",
       "      <th>26566</th>\n",
       "      <td>3618</td>\n",
       "      <td>NaN</td>\n",
       "      <td>NaN</td>\n",
       "      <td>30e3d17c-5bcb-11ed-84c2-8afbeb371208</td>\n",
       "      <td>NaN</td>\n",
       "      <td>NaN</td>\n",
       "      <td>DE</td>\n",
       "      <td>Dariusz Hauffer</td>\n",
       "      <td>iOS</td>\n",
       "    </tr>\n",
       "  </tbody>\n",
       "</table>\n",
       "</div>"
      ],
      "text/plain": [
       "       event_id     event_type  event_timestamp  \\\n",
       "23309   2075116        concert     1.274572e+10   \n",
       "26374  19283330  new_years_eve     1.274486e+09   \n",
       "26566      3618            NaN              NaN   \n",
       "\n",
       "                         event_data.user_id event_data.transaction_currency  \\\n",
       "23309  2cb2e110-5bcb-11ed-84c2-8afbeb371208                             NaN   \n",
       "26374  2b16f152-5bcb-11ed-84c2-8afbeb371208                             NaN   \n",
       "26566  30e3d17c-5bcb-11ed-84c2-8afbeb371208                             NaN   \n",
       "\n",
       "       event_data.transaction_amount event_data.country  event_data.name  \\\n",
       "23309                            NaN                NaN              NaN   \n",
       "26374                            NaN                NaN              NaN   \n",
       "26566                            NaN                 DE  Dariusz Hauffer   \n",
       "\n",
       "      event_data.device_os  \n",
       "23309                  NaN  \n",
       "26374                  NaN  \n",
       "26566                  iOS  "
      ]
     },
     "metadata": {},
     "output_type": "display_data"
    }
   ],
   "source": [
    "nonInterestingEvents = events[~events['event_type'].isin(['login', 'transaction', 'registration'])]\n",
    "display(nonInterestingEvents)"
   ]
  },
  {
   "cell_type": "markdown",
   "metadata": {},
   "source": [
    "Dogadjaj koncerta i doceka Nove godine nam definitivno nisu od interesa u ovom zadatku (pogotovu sto se ova Nova godina docekuje 22. maja 2010. 1:53:20 GMT+02:00 DST :D). Medjutim interesantan je event_type NaN red. Da li mozda imamo dogadjaj sa istim id-jem koji nam vise govori o njemu?"
   ]
  },
  {
   "cell_type": "code",
   "execution_count": 47,
   "metadata": {},
   "outputs": [
    {
     "data": {
      "text/html": [
       "<div>\n",
       "<style scoped>\n",
       "    .dataframe tbody tr th:only-of-type {\n",
       "        vertical-align: middle;\n",
       "    }\n",
       "\n",
       "    .dataframe tbody tr th {\n",
       "        vertical-align: top;\n",
       "    }\n",
       "\n",
       "    .dataframe thead th {\n",
       "        text-align: right;\n",
       "    }\n",
       "</style>\n",
       "<table border=\"1\" class=\"dataframe\">\n",
       "  <thead>\n",
       "    <tr style=\"text-align: right;\">\n",
       "      <th></th>\n",
       "      <th>event_id</th>\n",
       "      <th>event_type</th>\n",
       "      <th>event_timestamp</th>\n",
       "      <th>event_data.user_id</th>\n",
       "      <th>event_data.transaction_currency</th>\n",
       "      <th>event_data.transaction_amount</th>\n",
       "      <th>event_data.country</th>\n",
       "      <th>event_data.name</th>\n",
       "      <th>event_data.device_os</th>\n",
       "    </tr>\n",
       "  </thead>\n",
       "  <tbody>\n",
       "    <tr>\n",
       "      <th>26072</th>\n",
       "      <td>3618</td>\n",
       "      <td>registration</td>\n",
       "      <td>1.274460e+09</td>\n",
       "      <td>30e3d17c-5bcb-11ed-84c2-8afbeb371208</td>\n",
       "      <td>NaN</td>\n",
       "      <td>NaN</td>\n",
       "      <td>DE</td>\n",
       "      <td>Dariusz Hauffer</td>\n",
       "      <td>iOS</td>\n",
       "    </tr>\n",
       "    <tr>\n",
       "      <th>26566</th>\n",
       "      <td>3618</td>\n",
       "      <td>NaN</td>\n",
       "      <td>NaN</td>\n",
       "      <td>30e3d17c-5bcb-11ed-84c2-8afbeb371208</td>\n",
       "      <td>NaN</td>\n",
       "      <td>NaN</td>\n",
       "      <td>DE</td>\n",
       "      <td>Dariusz Hauffer</td>\n",
       "      <td>iOS</td>\n",
       "    </tr>\n",
       "  </tbody>\n",
       "</table>\n",
       "</div>"
      ],
      "text/plain": [
       "       event_id    event_type  event_timestamp  \\\n",
       "26072      3618  registration     1.274460e+09   \n",
       "26566      3618           NaN              NaN   \n",
       "\n",
       "                         event_data.user_id event_data.transaction_currency  \\\n",
       "26072  30e3d17c-5bcb-11ed-84c2-8afbeb371208                             NaN   \n",
       "26566  30e3d17c-5bcb-11ed-84c2-8afbeb371208                             NaN   \n",
       "\n",
       "       event_data.transaction_amount event_data.country  event_data.name  \\\n",
       "26072                            NaN                 DE  Dariusz Hauffer   \n",
       "26566                            NaN                 DE  Dariusz Hauffer   \n",
       "\n",
       "      event_data.device_os  \n",
       "26072                  iOS  \n",
       "26566                  iOS  "
      ]
     },
     "metadata": {},
     "output_type": "display_data"
    }
   ],
   "source": [
    "events3618 = events[events['event_id'] == 3618]\n",
    "display(events3618)"
   ]
  },
  {
   "cell_type": "markdown",
   "metadata": {},
   "source": [
    "Dakle, ovaj red predstavlja neuspesno cuvanje dogadjaja registracije koga vec imamo. Prema tome sva tri dogadjaja mozemo izbaciti iz naseg skupa podataka."
   ]
  },
  {
   "cell_type": "code",
   "execution_count": 48,
   "metadata": {
    "scrolled": true
   },
   "outputs": [
    {
     "name": "stdout",
     "output_type": "stream",
     "text": [
      "28050\n"
     ]
    }
   ],
   "source": [
    "events = events[events['event_type'].isin(['login', 'transaction', 'registration'])]\n",
    "print(len(events))"
   ]
  },
  {
   "cell_type": "markdown",
   "metadata": {},
   "source": [
    "Sve kolone su odgovarajuceg tipa i non-null. Testirajmo sada obavezne kolone svakog dogadjaja na NaN vrednost."
   ]
  },
  {
   "cell_type": "code",
   "execution_count": 49,
   "metadata": {},
   "outputs": [
    {
     "data": {
      "text/html": [
       "<div>\n",
       "<style scoped>\n",
       "    .dataframe tbody tr th:only-of-type {\n",
       "        vertical-align: middle;\n",
       "    }\n",
       "\n",
       "    .dataframe tbody tr th {\n",
       "        vertical-align: top;\n",
       "    }\n",
       "\n",
       "    .dataframe thead th {\n",
       "        text-align: right;\n",
       "    }\n",
       "</style>\n",
       "<table border=\"1\" class=\"dataframe\">\n",
       "  <thead>\n",
       "    <tr style=\"text-align: right;\">\n",
       "      <th></th>\n",
       "      <th>event_id</th>\n",
       "      <th>event_type</th>\n",
       "      <th>event_timestamp</th>\n",
       "      <th>event_data.user_id</th>\n",
       "      <th>event_data.transaction_currency</th>\n",
       "      <th>event_data.transaction_amount</th>\n",
       "      <th>event_data.country</th>\n",
       "      <th>event_data.name</th>\n",
       "      <th>event_data.device_os</th>\n",
       "    </tr>\n",
       "  </thead>\n",
       "  <tbody>\n",
       "    <tr>\n",
       "      <th>26949</th>\n",
       "      <td>531414</td>\n",
       "      <td>registration</td>\n",
       "      <td>NaN</td>\n",
       "      <td>3d2c52e-5bcb-11ed-84c2-8afbeb371208</td>\n",
       "      <td>NaN</td>\n",
       "      <td>NaN</td>\n",
       "      <td>US</td>\n",
       "      <td>Christine Tucker</td>\n",
       "      <td>Android</td>\n",
       "    </tr>\n",
       "    <tr>\n",
       "      <th>27376</th>\n",
       "      <td>1211145</td>\n",
       "      <td>login</td>\n",
       "      <td>1.271313e+09</td>\n",
       "      <td>NaN</td>\n",
       "      <td>NaN</td>\n",
       "      <td>NaN</td>\n",
       "      <td>NaN</td>\n",
       "      <td>NaN</td>\n",
       "      <td>NaN</td>\n",
       "    </tr>\n",
       "    <tr>\n",
       "      <th>27864</th>\n",
       "      <td>651913</td>\n",
       "      <td>registration</td>\n",
       "      <td>1.274530e+09</td>\n",
       "      <td>NaN</td>\n",
       "      <td>NaN</td>\n",
       "      <td>NaN</td>\n",
       "      <td>IT</td>\n",
       "      <td>Sig.ra Renata Jacuzzi</td>\n",
       "      <td>Android</td>\n",
       "    </tr>\n",
       "  </tbody>\n",
       "</table>\n",
       "</div>"
      ],
      "text/plain": [
       "       event_id    event_type  event_timestamp  \\\n",
       "26949    531414  registration              NaN   \n",
       "27376   1211145         login     1.271313e+09   \n",
       "27864    651913  registration     1.274530e+09   \n",
       "\n",
       "                        event_data.user_id event_data.transaction_currency  \\\n",
       "26949  3d2c52e-5bcb-11ed-84c2-8afbeb371208                             NaN   \n",
       "27376                                  NaN                             NaN   \n",
       "27864                                  NaN                             NaN   \n",
       "\n",
       "       event_data.transaction_amount event_data.country  \\\n",
       "26949                            NaN                 US   \n",
       "27376                            NaN                NaN   \n",
       "27864                            NaN                 IT   \n",
       "\n",
       "             event_data.name event_data.device_os  \n",
       "26949       Christine Tucker              Android  \n",
       "27376                    NaN                  NaN  \n",
       "27864  Sig.ra Renata Jacuzzi              Android  "
      ]
     },
     "metadata": {},
     "output_type": "display_data"
    }
   ],
   "source": [
    "display(events[events[['event_id', 'event_timestamp', 'event_data.user_id']].isna().any(axis=1)])"
   ]
  },
  {
   "cell_type": "markdown",
   "metadata": {},
   "source": [
    "Ovo su definitivno nevalidni event-ovi zato sto su navedena polja obavezna za svaki dogadjaj. Po uslovu zadatka (\"Discard invalid events. Events are considered invalid if they do not meet the requirements specified above\") sve nevalidne dogadjaje treba odbaciti. Ipak nije lose proveriti da li su ovo mozda duplirani podaci, kao i sve dogadjaje koje su vezane za njih."
   ]
  },
  {
   "cell_type": "markdown",
   "metadata": {},
   "source": [
    "Ako pogledamo prvi red videcemo da postoji user_id. Pretrazimo sve akcije ovog korisnika."
   ]
  },
  {
   "cell_type": "code",
   "execution_count": 50,
   "metadata": {},
   "outputs": [
    {
     "data": {
      "text/html": [
       "<div>\n",
       "<style scoped>\n",
       "    .dataframe tbody tr th:only-of-type {\n",
       "        vertical-align: middle;\n",
       "    }\n",
       "\n",
       "    .dataframe tbody tr th {\n",
       "        vertical-align: top;\n",
       "    }\n",
       "\n",
       "    .dataframe thead th {\n",
       "        text-align: right;\n",
       "    }\n",
       "</style>\n",
       "<table border=\"1\" class=\"dataframe\">\n",
       "  <thead>\n",
       "    <tr style=\"text-align: right;\">\n",
       "      <th></th>\n",
       "      <th>event_id</th>\n",
       "      <th>event_type</th>\n",
       "      <th>event_timestamp</th>\n",
       "      <th>event_data.user_id</th>\n",
       "      <th>event_data.transaction_currency</th>\n",
       "      <th>event_data.transaction_amount</th>\n",
       "      <th>event_data.country</th>\n",
       "      <th>event_data.name</th>\n",
       "      <th>event_data.device_os</th>\n",
       "    </tr>\n",
       "  </thead>\n",
       "  <tbody>\n",
       "    <tr>\n",
       "      <th>26949</th>\n",
       "      <td>531414</td>\n",
       "      <td>registration</td>\n",
       "      <td>NaN</td>\n",
       "      <td>3d2c52e-5bcb-11ed-84c2-8afbeb371208</td>\n",
       "      <td>NaN</td>\n",
       "      <td>NaN</td>\n",
       "      <td>US</td>\n",
       "      <td>Christine Tucker</td>\n",
       "      <td>Android</td>\n",
       "    </tr>\n",
       "  </tbody>\n",
       "</table>\n",
       "</div>"
      ],
      "text/plain": [
       "       event_id    event_type  event_timestamp  \\\n",
       "26949    531414  registration              NaN   \n",
       "\n",
       "                        event_data.user_id event_data.transaction_currency  \\\n",
       "26949  3d2c52e-5bcb-11ed-84c2-8afbeb371208                             NaN   \n",
       "\n",
       "       event_data.transaction_amount event_data.country   event_data.name  \\\n",
       "26949                            NaN                 US  Christine Tucker   \n",
       "\n",
       "      event_data.device_os  \n",
       "26949              Android  "
      ]
     },
     "metadata": {},
     "output_type": "display_data"
    }
   ],
   "source": [
    "display(events[events['event_data.user_id'] == '3d2c52e-5bcb-11ed-84c2-8afbeb371208'])"
   ]
  },
  {
   "cell_type": "markdown",
   "metadata": {},
   "source": [
    "Dakle, ovaj korisnik se ne spominje nigde u daljim dogadjajima. Zbog toga sto je ovo definitivno prljav podatak i akcije ovog korisnika ne postoje nigde drugde, mozemo mirne duse da uklonimo ovaj red u nastavku :D."
   ]
  },
  {
   "cell_type": "markdown",
   "metadata": {},
   "source": [
    "Za druga dva reda ne postoji korisnik. Pokusajmo da ih pronadjemo preko vremena i id dogadjaja."
   ]
  },
  {
   "cell_type": "code",
   "execution_count": 51,
   "metadata": {},
   "outputs": [
    {
     "data": {
      "text/html": [
       "<div>\n",
       "<style scoped>\n",
       "    .dataframe tbody tr th:only-of-type {\n",
       "        vertical-align: middle;\n",
       "    }\n",
       "\n",
       "    .dataframe tbody tr th {\n",
       "        vertical-align: top;\n",
       "    }\n",
       "\n",
       "    .dataframe thead th {\n",
       "        text-align: right;\n",
       "    }\n",
       "</style>\n",
       "<table border=\"1\" class=\"dataframe\">\n",
       "  <thead>\n",
       "    <tr style=\"text-align: right;\">\n",
       "      <th></th>\n",
       "      <th>event_id</th>\n",
       "      <th>event_type</th>\n",
       "      <th>event_timestamp</th>\n",
       "      <th>event_data.user_id</th>\n",
       "      <th>event_data.transaction_currency</th>\n",
       "      <th>event_data.transaction_amount</th>\n",
       "      <th>event_data.country</th>\n",
       "      <th>event_data.name</th>\n",
       "      <th>event_data.device_os</th>\n",
       "    </tr>\n",
       "  </thead>\n",
       "  <tbody>\n",
       "    <tr>\n",
       "      <th>27376</th>\n",
       "      <td>1211145</td>\n",
       "      <td>login</td>\n",
       "      <td>1.271313e+09</td>\n",
       "      <td>NaN</td>\n",
       "      <td>NaN</td>\n",
       "      <td>NaN</td>\n",
       "      <td>NaN</td>\n",
       "      <td>NaN</td>\n",
       "      <td>NaN</td>\n",
       "    </tr>\n",
       "  </tbody>\n",
       "</table>\n",
       "</div>"
      ],
      "text/plain": [
       "       event_id event_type  event_timestamp event_data.user_id  \\\n",
       "27376   1211145      login     1.271313e+09                NaN   \n",
       "\n",
       "      event_data.transaction_currency  event_data.transaction_amount  \\\n",
       "27376                             NaN                            NaN   \n",
       "\n",
       "      event_data.country event_data.name event_data.device_os  \n",
       "27376                NaN             NaN                  NaN  "
      ]
     },
     "metadata": {},
     "output_type": "display_data"
    }
   ],
   "source": [
    "display(events[(events['event_timestamp'] == 1.271313e+09) | (events['event_id'] == 1211145)])"
   ]
  },
  {
   "cell_type": "code",
   "execution_count": 52,
   "metadata": {},
   "outputs": [
    {
     "data": {
      "text/html": [
       "<div>\n",
       "<style scoped>\n",
       "    .dataframe tbody tr th:only-of-type {\n",
       "        vertical-align: middle;\n",
       "    }\n",
       "\n",
       "    .dataframe tbody tr th {\n",
       "        vertical-align: top;\n",
       "    }\n",
       "\n",
       "    .dataframe thead th {\n",
       "        text-align: right;\n",
       "    }\n",
       "</style>\n",
       "<table border=\"1\" class=\"dataframe\">\n",
       "  <thead>\n",
       "    <tr style=\"text-align: right;\">\n",
       "      <th></th>\n",
       "      <th>event_id</th>\n",
       "      <th>event_type</th>\n",
       "      <th>event_timestamp</th>\n",
       "      <th>event_data.user_id</th>\n",
       "      <th>event_data.transaction_currency</th>\n",
       "      <th>event_data.transaction_amount</th>\n",
       "      <th>event_data.country</th>\n",
       "      <th>event_data.name</th>\n",
       "      <th>event_data.device_os</th>\n",
       "    </tr>\n",
       "  </thead>\n",
       "  <tbody>\n",
       "    <tr>\n",
       "      <th>27864</th>\n",
       "      <td>651913</td>\n",
       "      <td>registration</td>\n",
       "      <td>1.274530e+09</td>\n",
       "      <td>NaN</td>\n",
       "      <td>NaN</td>\n",
       "      <td>NaN</td>\n",
       "      <td>IT</td>\n",
       "      <td>Sig.ra Renata Jacuzzi</td>\n",
       "      <td>Android</td>\n",
       "    </tr>\n",
       "  </tbody>\n",
       "</table>\n",
       "</div>"
      ],
      "text/plain": [
       "       event_id    event_type  event_timestamp event_data.user_id  \\\n",
       "27864    651913  registration     1.274530e+09                NaN   \n",
       "\n",
       "      event_data.transaction_currency  event_data.transaction_amount  \\\n",
       "27864                             NaN                            NaN   \n",
       "\n",
       "      event_data.country        event_data.name event_data.device_os  \n",
       "27864                 IT  Sig.ra Renata Jacuzzi              Android  "
      ]
     },
     "metadata": {},
     "output_type": "display_data"
    }
   ],
   "source": [
    "display(events[(events['event_timestamp'] == 1.274530e+09) | (events['event_id'] == 651913)])"
   ]
  },
  {
   "cell_type": "markdown",
   "metadata": {},
   "source": [
    "Ni ova dva dogadjaja se ne javljaju nigde drugde i predstavljaju \"izolovane\" prljave podatke koje takodje treba da obrisemo."
   ]
  },
  {
   "cell_type": "code",
   "execution_count": 53,
   "metadata": {},
   "outputs": [
    {
     "name": "stdout",
     "output_type": "stream",
     "text": [
      "28047\n"
     ]
    }
   ],
   "source": [
    "events = events[~events[['event_id', 'event_timestamp', 'event_data.user_id']].isna().any(axis=1)]\n",
    "print(len(events))"
   ]
  },
  {
   "cell_type": "markdown",
   "metadata": {},
   "source": [
    "Testirajmo sada da li su obavezna polja svakog dogadjaja prazni stringovi. Event_id i event_timestamp su numericki podaci, a kolonu event_type smo vec testirali. Ipak moze se desiti da je neciji user_id ostao prazan."
   ]
  },
  {
   "cell_type": "code",
   "execution_count": 54,
   "metadata": {},
   "outputs": [
    {
     "data": {
      "text/html": [
       "<div>\n",
       "<style scoped>\n",
       "    .dataframe tbody tr th:only-of-type {\n",
       "        vertical-align: middle;\n",
       "    }\n",
       "\n",
       "    .dataframe tbody tr th {\n",
       "        vertical-align: top;\n",
       "    }\n",
       "\n",
       "    .dataframe thead th {\n",
       "        text-align: right;\n",
       "    }\n",
       "</style>\n",
       "<table border=\"1\" class=\"dataframe\">\n",
       "  <thead>\n",
       "    <tr style=\"text-align: right;\">\n",
       "      <th></th>\n",
       "      <th>event_id</th>\n",
       "      <th>event_type</th>\n",
       "      <th>event_timestamp</th>\n",
       "      <th>event_data.user_id</th>\n",
       "      <th>event_data.transaction_currency</th>\n",
       "      <th>event_data.transaction_amount</th>\n",
       "      <th>event_data.country</th>\n",
       "      <th>event_data.name</th>\n",
       "      <th>event_data.device_os</th>\n",
       "    </tr>\n",
       "  </thead>\n",
       "  <tbody>\n",
       "  </tbody>\n",
       "</table>\n",
       "</div>"
      ],
      "text/plain": [
       "Empty DataFrame\n",
       "Columns: [event_id, event_type, event_timestamp, event_data.user_id, event_data.transaction_currency, event_data.transaction_amount, event_data.country, event_data.name, event_data.device_os]\n",
       "Index: []"
      ]
     },
     "metadata": {},
     "output_type": "display_data"
    }
   ],
   "source": [
    "display(events[events['event_data.user_id'] == ''])"
   ]
  },
  {
   "cell_type": "markdown",
   "metadata": {},
   "source": [
    "Ne postoje korisnici sa praznim user_id-om."
   ]
  },
  {
   "cell_type": "markdown",
   "metadata": {},
   "source": [
    "Prebacimo kolonu event_timestamp u citljiviju formu vremena."
   ]
  },
  {
   "cell_type": "code",
   "execution_count": 55,
   "metadata": {},
   "outputs": [
    {
     "data": {
      "text/html": [
       "<div>\n",
       "<style scoped>\n",
       "    .dataframe tbody tr th:only-of-type {\n",
       "        vertical-align: middle;\n",
       "    }\n",
       "\n",
       "    .dataframe tbody tr th {\n",
       "        vertical-align: top;\n",
       "    }\n",
       "\n",
       "    .dataframe thead th {\n",
       "        text-align: right;\n",
       "    }\n",
       "</style>\n",
       "<table border=\"1\" class=\"dataframe\">\n",
       "  <thead>\n",
       "    <tr style=\"text-align: right;\">\n",
       "      <th></th>\n",
       "      <th>event_id</th>\n",
       "      <th>event_type</th>\n",
       "      <th>event_timestamp</th>\n",
       "      <th>event_data.user_id</th>\n",
       "      <th>event_data.transaction_currency</th>\n",
       "      <th>event_data.transaction_amount</th>\n",
       "      <th>event_data.country</th>\n",
       "      <th>event_data.name</th>\n",
       "      <th>event_data.device_os</th>\n",
       "    </tr>\n",
       "  </thead>\n",
       "  <tbody>\n",
       "    <tr>\n",
       "      <th>0</th>\n",
       "      <td>28039</td>\n",
       "      <td>transaction</td>\n",
       "      <td>2010-05-22 23:57:47</td>\n",
       "      <td>36835c60-5bcb-11ed-84c2-8afbeb371208</td>\n",
       "      <td>EUR</td>\n",
       "      <td>1.99</td>\n",
       "      <td>NaN</td>\n",
       "      <td>NaN</td>\n",
       "      <td>NaN</td>\n",
       "    </tr>\n",
       "    <tr>\n",
       "      <th>1</th>\n",
       "      <td>11528</td>\n",
       "      <td>login</td>\n",
       "      <td>2010-05-19 23:52:11</td>\n",
       "      <td>1b53b16a-5bcb-11ed-84c2-8afbeb371208</td>\n",
       "      <td>NaN</td>\n",
       "      <td>NaN</td>\n",
       "      <td>NaN</td>\n",
       "      <td>NaN</td>\n",
       "      <td>NaN</td>\n",
       "    </tr>\n",
       "    <tr>\n",
       "      <th>2</th>\n",
       "      <td>13381</td>\n",
       "      <td>login</td>\n",
       "      <td>2010-05-20 23:59:15</td>\n",
       "      <td>17f29360-5bcb-11ed-84c2-8afbeb371208</td>\n",
       "      <td>NaN</td>\n",
       "      <td>NaN</td>\n",
       "      <td>NaN</td>\n",
       "      <td>NaN</td>\n",
       "      <td>NaN</td>\n",
       "    </tr>\n",
       "    <tr>\n",
       "      <th>3</th>\n",
       "      <td>8075</td>\n",
       "      <td>login</td>\n",
       "      <td>2010-05-14 23:53:29</td>\n",
       "      <td>184d5566-5bcb-11ed-84c2-8afbeb371208</td>\n",
       "      <td>NaN</td>\n",
       "      <td>NaN</td>\n",
       "      <td>NaN</td>\n",
       "      <td>NaN</td>\n",
       "      <td>NaN</td>\n",
       "    </tr>\n",
       "    <tr>\n",
       "      <th>4</th>\n",
       "      <td>4340</td>\n",
       "      <td>registration</td>\n",
       "      <td>2010-05-21 17:15:43</td>\n",
       "      <td>361d78d2-5bcb-11ed-84c2-8afbeb371208</td>\n",
       "      <td>NaN</td>\n",
       "      <td>NaN</td>\n",
       "      <td>DE</td>\n",
       "      <td>Ing. Ekkehard Gude</td>\n",
       "      <td>Android</td>\n",
       "    </tr>\n",
       "  </tbody>\n",
       "</table>\n",
       "</div>"
      ],
      "text/plain": [
       "   event_id    event_type     event_timestamp  \\\n",
       "0     28039   transaction 2010-05-22 23:57:47   \n",
       "1     11528         login 2010-05-19 23:52:11   \n",
       "2     13381         login 2010-05-20 23:59:15   \n",
       "3      8075         login 2010-05-14 23:53:29   \n",
       "4      4340  registration 2010-05-21 17:15:43   \n",
       "\n",
       "                     event_data.user_id event_data.transaction_currency  \\\n",
       "0  36835c60-5bcb-11ed-84c2-8afbeb371208                             EUR   \n",
       "1  1b53b16a-5bcb-11ed-84c2-8afbeb371208                             NaN   \n",
       "2  17f29360-5bcb-11ed-84c2-8afbeb371208                             NaN   \n",
       "3  184d5566-5bcb-11ed-84c2-8afbeb371208                             NaN   \n",
       "4  361d78d2-5bcb-11ed-84c2-8afbeb371208                             NaN   \n",
       "\n",
       "   event_data.transaction_amount event_data.country     event_data.name  \\\n",
       "0                           1.99                NaN                 NaN   \n",
       "1                            NaN                NaN                 NaN   \n",
       "2                            NaN                NaN                 NaN   \n",
       "3                            NaN                NaN                 NaN   \n",
       "4                            NaN                 DE  Ing. Ekkehard Gude   \n",
       "\n",
       "  event_data.device_os  \n",
       "0                  NaN  \n",
       "1                  NaN  \n",
       "2                  NaN  \n",
       "3                  NaN  \n",
       "4              Android  "
      ]
     },
     "metadata": {},
     "output_type": "display_data"
    },
    {
     "name": "stdout",
     "output_type": "stream",
     "text": [
      "<class 'pandas.core.frame.DataFrame'>\n",
      "Int64Index: 28047 entries, 0 to 28052\n",
      "Data columns (total 9 columns):\n",
      " #   Column                           Non-Null Count  Dtype         \n",
      "---  ------                           --------------  -----         \n",
      " 0   event_id                         28047 non-null  int64         \n",
      " 1   event_type                       28047 non-null  object        \n",
      " 2   event_timestamp                  28047 non-null  datetime64[ns]\n",
      " 3   event_data.user_id               28047 non-null  object        \n",
      " 4   event_data.transaction_currency  634 non-null    object        \n",
      " 5   event_data.transaction_amount    634 non-null    float64       \n",
      " 6   event_data.country               7489 non-null   object        \n",
      " 7   event_data.name                  7489 non-null   object        \n",
      " 8   event_data.device_os             7489 non-null   object        \n",
      "dtypes: datetime64[ns](1), float64(1), int64(1), object(6)\n",
      "memory usage: 2.1+ MB\n"
     ]
    }
   ],
   "source": [
    "events['event_timestamp'] = pd.to_datetime(events['event_timestamp'], unit='s')\n",
    "\n",
    "display(events.head())\n",
    "events.info()"
   ]
  },
  {
   "cell_type": "markdown",
   "metadata": {},
   "source": [
    "Da li mozda imamo neki dogadjaj van 8. maja 2010. - 22. maja 2010.?"
   ]
  },
  {
   "cell_type": "code",
   "execution_count": 56,
   "metadata": {},
   "outputs": [
    {
     "data": {
      "text/html": [
       "<div>\n",
       "<style scoped>\n",
       "    .dataframe tbody tr th:only-of-type {\n",
       "        vertical-align: middle;\n",
       "    }\n",
       "\n",
       "    .dataframe tbody tr th {\n",
       "        vertical-align: top;\n",
       "    }\n",
       "\n",
       "    .dataframe thead th {\n",
       "        text-align: right;\n",
       "    }\n",
       "</style>\n",
       "<table border=\"1\" class=\"dataframe\">\n",
       "  <thead>\n",
       "    <tr style=\"text-align: right;\">\n",
       "      <th></th>\n",
       "      <th>event_id</th>\n",
       "      <th>event_type</th>\n",
       "      <th>event_timestamp</th>\n",
       "      <th>event_data.user_id</th>\n",
       "      <th>event_data.transaction_currency</th>\n",
       "      <th>event_data.transaction_amount</th>\n",
       "      <th>event_data.country</th>\n",
       "      <th>event_data.name</th>\n",
       "      <th>event_data.device_os</th>\n",
       "    </tr>\n",
       "  </thead>\n",
       "  <tbody>\n",
       "    <tr>\n",
       "      <th>10707</th>\n",
       "      <td>137645</td>\n",
       "      <td>registration</td>\n",
       "      <td>1980-11-04 09:03:54</td>\n",
       "      <td>238271dd6-5bcb-11ed-84c2-8afbeb371208</td>\n",
       "      <td>NaN</td>\n",
       "      <td>NaN</td>\n",
       "      <td>DE</td>\n",
       "      <td>Felix Heinrich-Girschner</td>\n",
       "      <td>Android</td>\n",
       "    </tr>\n",
       "    <tr>\n",
       "      <th>12808</th>\n",
       "      <td>21334285</td>\n",
       "      <td>login</td>\n",
       "      <td>1980-11-27 12:20:34</td>\n",
       "      <td>3b6b5656-5bcb-11ed-84c2-8afbeb371208</td>\n",
       "      <td>NaN</td>\n",
       "      <td>NaN</td>\n",
       "      <td>NaN</td>\n",
       "      <td>NaN</td>\n",
       "      <td>NaN</td>\n",
       "    </tr>\n",
       "    <tr>\n",
       "      <th>21575</th>\n",
       "      <td>27971347</td>\n",
       "      <td>transaction</td>\n",
       "      <td>2010-04-29 20:24:38</td>\n",
       "      <td>34db3ac2-5bcb-11ed-84c2-8afbeb371208</td>\n",
       "      <td>USD</td>\n",
       "      <td>-1.99</td>\n",
       "      <td>NaN</td>\n",
       "      <td>NaN</td>\n",
       "      <td>NaN</td>\n",
       "    </tr>\n",
       "  </tbody>\n",
       "</table>\n",
       "</div>"
      ],
      "text/plain": [
       "       event_id    event_type     event_timestamp  \\\n",
       "10707    137645  registration 1980-11-04 09:03:54   \n",
       "12808  21334285         login 1980-11-27 12:20:34   \n",
       "21575  27971347   transaction 2010-04-29 20:24:38   \n",
       "\n",
       "                          event_data.user_id event_data.transaction_currency  \\\n",
       "10707  238271dd6-5bcb-11ed-84c2-8afbeb371208                             NaN   \n",
       "12808   3b6b5656-5bcb-11ed-84c2-8afbeb371208                             NaN   \n",
       "21575   34db3ac2-5bcb-11ed-84c2-8afbeb371208                             USD   \n",
       "\n",
       "       event_data.transaction_amount event_data.country  \\\n",
       "10707                            NaN                 DE   \n",
       "12808                            NaN                NaN   \n",
       "21575                          -1.99                NaN   \n",
       "\n",
       "                event_data.name event_data.device_os  \n",
       "10707  Felix Heinrich-Girschner              Android  \n",
       "12808                       NaN                  NaN  \n",
       "21575                       NaN                  NaN  "
      ]
     },
     "metadata": {},
     "output_type": "display_data"
    }
   ],
   "source": [
    "outOfDateRange = events[(events['event_timestamp'] < '2010-05-08 00:00:00') | (events['event_timestamp'] > '2010-05-22 23:59:59')]\n",
    "display(outOfDateRange)"
   ]
  },
  {
   "cell_type": "markdown",
   "metadata": {},
   "source": [
    "Logovanje, registracija i transakcija pre pustanje igrice na produkciju?\n",
    "\n",
    "Moguce da su u pitanju neki testni podaci koji su zaostali u bazi. Hajde da potrazimo sve akcije ovih korisnika, da bismo dobili dodatne informacije."
   ]
  },
  {
   "cell_type": "code",
   "execution_count": 57,
   "metadata": {},
   "outputs": [
    {
     "data": {
      "text/html": [
       "<div>\n",
       "<style scoped>\n",
       "    .dataframe tbody tr th:only-of-type {\n",
       "        vertical-align: middle;\n",
       "    }\n",
       "\n",
       "    .dataframe tbody tr th {\n",
       "        vertical-align: top;\n",
       "    }\n",
       "\n",
       "    .dataframe thead th {\n",
       "        text-align: right;\n",
       "    }\n",
       "</style>\n",
       "<table border=\"1\" class=\"dataframe\">\n",
       "  <thead>\n",
       "    <tr style=\"text-align: right;\">\n",
       "      <th></th>\n",
       "      <th>event_id</th>\n",
       "      <th>event_type</th>\n",
       "      <th>event_timestamp</th>\n",
       "      <th>event_data.user_id</th>\n",
       "      <th>event_data.transaction_currency</th>\n",
       "      <th>event_data.transaction_amount</th>\n",
       "      <th>event_data.country</th>\n",
       "      <th>event_data.name</th>\n",
       "      <th>event_data.device_os</th>\n",
       "    </tr>\n",
       "  </thead>\n",
       "  <tbody>\n",
       "    <tr>\n",
       "      <th>10707</th>\n",
       "      <td>137645</td>\n",
       "      <td>registration</td>\n",
       "      <td>1980-11-04 09:03:54</td>\n",
       "      <td>238271dd6-5bcb-11ed-84c2-8afbeb371208</td>\n",
       "      <td>NaN</td>\n",
       "      <td>NaN</td>\n",
       "      <td>DE</td>\n",
       "      <td>Felix Heinrich-Girschner</td>\n",
       "      <td>Android</td>\n",
       "    </tr>\n",
       "    <tr>\n",
       "      <th>21575</th>\n",
       "      <td>27971347</td>\n",
       "      <td>transaction</td>\n",
       "      <td>2010-04-29 20:24:38</td>\n",
       "      <td>34db3ac2-5bcb-11ed-84c2-8afbeb371208</td>\n",
       "      <td>USD</td>\n",
       "      <td>-1.99</td>\n",
       "      <td>NaN</td>\n",
       "      <td>NaN</td>\n",
       "      <td>NaN</td>\n",
       "    </tr>\n",
       "    <tr>\n",
       "      <th>13787</th>\n",
       "      <td>4165</td>\n",
       "      <td>registration</td>\n",
       "      <td>2010-05-21 18:41:19</td>\n",
       "      <td>34db3ac2-5bcb-11ed-84c2-8afbeb371208</td>\n",
       "      <td>NaN</td>\n",
       "      <td>NaN</td>\n",
       "      <td>US</td>\n",
       "      <td>Matthew Esparza</td>\n",
       "      <td>Android</td>\n",
       "    </tr>\n",
       "    <tr>\n",
       "      <th>19586</th>\n",
       "      <td>27977</td>\n",
       "      <td>transaction</td>\n",
       "      <td>2010-05-22 23:57:58</td>\n",
       "      <td>34db3ac2-5bcb-11ed-84c2-8afbeb371208</td>\n",
       "      <td>USD</td>\n",
       "      <td>0.99</td>\n",
       "      <td>NaN</td>\n",
       "      <td>NaN</td>\n",
       "      <td>NaN</td>\n",
       "    </tr>\n",
       "    <tr>\n",
       "      <th>12808</th>\n",
       "      <td>21334285</td>\n",
       "      <td>login</td>\n",
       "      <td>1980-11-27 12:20:34</td>\n",
       "      <td>3b6b5656-5bcb-11ed-84c2-8afbeb371208</td>\n",
       "      <td>NaN</td>\n",
       "      <td>NaN</td>\n",
       "      <td>NaN</td>\n",
       "      <td>NaN</td>\n",
       "      <td>NaN</td>\n",
       "    </tr>\n",
       "    <tr>\n",
       "      <th>8247</th>\n",
       "      <td>5073</td>\n",
       "      <td>registration</td>\n",
       "      <td>2010-05-22 15:53:00</td>\n",
       "      <td>3b6b5656-5bcb-11ed-84c2-8afbeb371208</td>\n",
       "      <td>NaN</td>\n",
       "      <td>NaN</td>\n",
       "      <td>US</td>\n",
       "      <td>Lindsey Gibson</td>\n",
       "      <td>Android</td>\n",
       "    </tr>\n",
       "    <tr>\n",
       "      <th>11781</th>\n",
       "      <td>24285</td>\n",
       "      <td>login</td>\n",
       "      <td>2010-05-22 23:59:53</td>\n",
       "      <td>3b6b5656-5bcb-11ed-84c2-8afbeb371208</td>\n",
       "      <td>NaN</td>\n",
       "      <td>NaN</td>\n",
       "      <td>NaN</td>\n",
       "      <td>NaN</td>\n",
       "      <td>NaN</td>\n",
       "    </tr>\n",
       "  </tbody>\n",
       "</table>\n",
       "</div>"
      ],
      "text/plain": [
       "       event_id    event_type     event_timestamp  \\\n",
       "10707    137645  registration 1980-11-04 09:03:54   \n",
       "21575  27971347   transaction 2010-04-29 20:24:38   \n",
       "13787      4165  registration 2010-05-21 18:41:19   \n",
       "19586     27977   transaction 2010-05-22 23:57:58   \n",
       "12808  21334285         login 1980-11-27 12:20:34   \n",
       "8247       5073  registration 2010-05-22 15:53:00   \n",
       "11781     24285         login 2010-05-22 23:59:53   \n",
       "\n",
       "                          event_data.user_id event_data.transaction_currency  \\\n",
       "10707  238271dd6-5bcb-11ed-84c2-8afbeb371208                             NaN   \n",
       "21575   34db3ac2-5bcb-11ed-84c2-8afbeb371208                             USD   \n",
       "13787   34db3ac2-5bcb-11ed-84c2-8afbeb371208                             NaN   \n",
       "19586   34db3ac2-5bcb-11ed-84c2-8afbeb371208                             USD   \n",
       "12808   3b6b5656-5bcb-11ed-84c2-8afbeb371208                             NaN   \n",
       "8247    3b6b5656-5bcb-11ed-84c2-8afbeb371208                             NaN   \n",
       "11781   3b6b5656-5bcb-11ed-84c2-8afbeb371208                             NaN   \n",
       "\n",
       "       event_data.transaction_amount event_data.country  \\\n",
       "10707                            NaN                 DE   \n",
       "21575                          -1.99                NaN   \n",
       "13787                            NaN                 US   \n",
       "19586                           0.99                NaN   \n",
       "12808                            NaN                NaN   \n",
       "8247                             NaN                 US   \n",
       "11781                            NaN                NaN   \n",
       "\n",
       "                event_data.name event_data.device_os  \n",
       "10707  Felix Heinrich-Girschner              Android  \n",
       "21575                       NaN                  NaN  \n",
       "13787           Matthew Esparza              Android  \n",
       "19586                       NaN                  NaN  \n",
       "12808                       NaN                  NaN  \n",
       "8247             Lindsey Gibson              Android  \n",
       "11781                       NaN                  NaN  "
      ]
     },
     "metadata": {},
     "output_type": "display_data"
    }
   ],
   "source": [
    "outOfDateUsersEvents = events[events['event_data.user_id'].isin(outOfDateRange['event_data.user_id'])]\n",
    "display(outOfDateUsersEvents.sort_values(['event_data.user_id', 'event_timestamp']))"
   ]
  },
  {
   "cell_type": "markdown",
   "metadata": {},
   "source": [
    "Prvi korisnik se registrovao 1980. godine (30 godina pre izbacivanja igre na produkciju :D) i nakon toga nije zabelezena nijedna akcija ovog korisnika. Mozda je u pitanju greska u belezenju samog vremena ili je to neki testni podatak. U svakom slucaju ovo je nevalidan podatak i po tekstu zadatka sve nevalidne podatke po bilo kom kriterijumu treba odbaciti.\n",
    "\n",
    "Drugi korisnik je uradio transakciju pre same registracije. Da li je to dozvoljeno tekstom zadatka?\n",
    "\"On registration, the user is assigned a unique identifier which allows us to track him across all other events\" - dakle registracija mora biti prva akcija korisnika -> transakcija 27977 je prljav (verovatno testni) podatak.\n",
    "\n",
    "Treci korisnik je uradio logovanje 1980. godine + pre registracije -> prljav podatak.\n",
    "\n",
    "Sva tri dogadjaja van dozvoljenog vremenskog opsega mozemo ukloniti jer ne ruse ostale akcije tih korisnika (npr. bilo bi otvoreno pitanje sta raditi ako bi registracija bila van dozvoljenog opsega vremena, a ostale akcije validne, ali takav slucaj nemamo :D)."
   ]
  },
  {
   "cell_type": "code",
   "execution_count": 58,
   "metadata": {},
   "outputs": [
    {
     "name": "stdout",
     "output_type": "stream",
     "text": [
      "28044\n"
     ]
    }
   ],
   "source": [
    "events = events[(events['event_timestamp'] >= '2010-05-08 00:00:00') & (events['event_timestamp'] <= '2010-05-22 23:59:59')]\n",
    "print(len(events))"
   ]
  },
  {
   "cell_type": "markdown",
   "metadata": {},
   "source": [
    "Predjimo sada na duplirane dogadjaje."
   ]
  },
  {
   "cell_type": "code",
   "execution_count": 59,
   "metadata": {},
   "outputs": [
    {
     "data": {
      "text/html": [
       "<div>\n",
       "<style scoped>\n",
       "    .dataframe tbody tr th:only-of-type {\n",
       "        vertical-align: middle;\n",
       "    }\n",
       "\n",
       "    .dataframe tbody tr th {\n",
       "        vertical-align: top;\n",
       "    }\n",
       "\n",
       "    .dataframe thead th {\n",
       "        text-align: right;\n",
       "    }\n",
       "</style>\n",
       "<table border=\"1\" class=\"dataframe\">\n",
       "  <thead>\n",
       "    <tr style=\"text-align: right;\">\n",
       "      <th></th>\n",
       "      <th>event_id</th>\n",
       "      <th>event_type</th>\n",
       "      <th>event_timestamp</th>\n",
       "      <th>event_data.user_id</th>\n",
       "      <th>event_data.transaction_currency</th>\n",
       "      <th>event_data.transaction_amount</th>\n",
       "      <th>event_data.country</th>\n",
       "      <th>event_data.name</th>\n",
       "      <th>event_data.device_os</th>\n",
       "    </tr>\n",
       "  </thead>\n",
       "  <tbody>\n",
       "    <tr>\n",
       "      <th>6198</th>\n",
       "      <td>11701</td>\n",
       "      <td>login</td>\n",
       "      <td>2010-05-19 23:55:08</td>\n",
       "      <td>1b91daf8-5bcb-11ed-84c2-8afbeb371208</td>\n",
       "      <td>NaN</td>\n",
       "      <td>NaN</td>\n",
       "      <td>NaN</td>\n",
       "      <td>NaN</td>\n",
       "      <td>NaN</td>\n",
       "    </tr>\n",
       "    <tr>\n",
       "      <th>6655</th>\n",
       "      <td>27834</td>\n",
       "      <td>transaction</td>\n",
       "      <td>2010-05-22 01:39:03</td>\n",
       "      <td>2bafe02e-5bcb-11ed-84c2-8afbeb371208</td>\n",
       "      <td>USD</td>\n",
       "      <td>1.99</td>\n",
       "      <td>NaN</td>\n",
       "      <td>NaN</td>\n",
       "      <td>NaN</td>\n",
       "    </tr>\n",
       "    <tr>\n",
       "      <th>8543</th>\n",
       "      <td>20151</td>\n",
       "      <td>login</td>\n",
       "      <td>2010-05-21 23:59:46</td>\n",
       "      <td>17a3c00a-5bcb-11ed-84c2-8afbeb371208</td>\n",
       "      <td>NaN</td>\n",
       "      <td>NaN</td>\n",
       "      <td>NaN</td>\n",
       "      <td>NaN</td>\n",
       "      <td>NaN</td>\n",
       "    </tr>\n",
       "    <tr>\n",
       "      <th>9093</th>\n",
       "      <td>1765</td>\n",
       "      <td>registration</td>\n",
       "      <td>2010-05-19 00:45:20</td>\n",
       "      <td>23871dd6-5bcb-11ed-84c2-8afbeb371208</td>\n",
       "      <td>NaN</td>\n",
       "      <td>NaN</td>\n",
       "      <td>DE</td>\n",
       "      <td>Felix Heinrich-Girschner</td>\n",
       "      <td>Android</td>\n",
       "    </tr>\n",
       "    <tr>\n",
       "      <th>10120</th>\n",
       "      <td>7464</td>\n",
       "      <td>registration</td>\n",
       "      <td>2010-05-22 11:36:27</td>\n",
       "      <td>4d1f385e-5bcb-11ed-84c2-8afbeb371208</td>\n",
       "      <td>NaN</td>\n",
       "      <td>NaN</td>\n",
       "      <td>DE</td>\n",
       "      <td>Elisabeth Hartmann</td>\n",
       "      <td>Android</td>\n",
       "    </tr>\n",
       "    <tr>\n",
       "      <th>10565</th>\n",
       "      <td>26936</td>\n",
       "      <td>login</td>\n",
       "      <td>2010-05-22 23:59:59</td>\n",
       "      <td>2057d3c6-5bcb-11ed-84c2-8afbeb371208</td>\n",
       "      <td>NaN</td>\n",
       "      <td>NaN</td>\n",
       "      <td>NaN</td>\n",
       "      <td>NaN</td>\n",
       "      <td>NaN</td>\n",
       "    </tr>\n",
       "    <tr>\n",
       "      <th>10943</th>\n",
       "      <td>1513</td>\n",
       "      <td>registration</td>\n",
       "      <td>2010-05-19 03:17:57</td>\n",
       "      <td>21b5730e-5bcb-11ed-84c2-8afbeb371208</td>\n",
       "      <td>NaN</td>\n",
       "      <td>NaN</td>\n",
       "      <td>DE</td>\n",
       "      <td>Muharrem Ortmann</td>\n",
       "      <td>iOS</td>\n",
       "    </tr>\n",
       "    <tr>\n",
       "      <th>27861</th>\n",
       "      <td>5312</td>\n",
       "      <td>registration</td>\n",
       "      <td>2010-05-22 13:21:16</td>\n",
       "      <td>3d241442-5bcb-11ed-84c2-8afbeb371208</td>\n",
       "      <td>NaN</td>\n",
       "      <td>NaN</td>\n",
       "      <td>DE</td>\n",
       "      <td>Isabell Hahn-Schmiedecke</td>\n",
       "      <td>Web</td>\n",
       "    </tr>\n",
       "  </tbody>\n",
       "</table>\n",
       "</div>"
      ],
      "text/plain": [
       "       event_id    event_type     event_timestamp  \\\n",
       "6198      11701         login 2010-05-19 23:55:08   \n",
       "6655      27834   transaction 2010-05-22 01:39:03   \n",
       "8543      20151         login 2010-05-21 23:59:46   \n",
       "9093       1765  registration 2010-05-19 00:45:20   \n",
       "10120      7464  registration 2010-05-22 11:36:27   \n",
       "10565     26936         login 2010-05-22 23:59:59   \n",
       "10943      1513  registration 2010-05-19 03:17:57   \n",
       "27861      5312  registration 2010-05-22 13:21:16   \n",
       "\n",
       "                         event_data.user_id event_data.transaction_currency  \\\n",
       "6198   1b91daf8-5bcb-11ed-84c2-8afbeb371208                             NaN   \n",
       "6655   2bafe02e-5bcb-11ed-84c2-8afbeb371208                             USD   \n",
       "8543   17a3c00a-5bcb-11ed-84c2-8afbeb371208                             NaN   \n",
       "9093   23871dd6-5bcb-11ed-84c2-8afbeb371208                             NaN   \n",
       "10120  4d1f385e-5bcb-11ed-84c2-8afbeb371208                             NaN   \n",
       "10565  2057d3c6-5bcb-11ed-84c2-8afbeb371208                             NaN   \n",
       "10943  21b5730e-5bcb-11ed-84c2-8afbeb371208                             NaN   \n",
       "27861  3d241442-5bcb-11ed-84c2-8afbeb371208                             NaN   \n",
       "\n",
       "       event_data.transaction_amount event_data.country  \\\n",
       "6198                             NaN                NaN   \n",
       "6655                            1.99                NaN   \n",
       "8543                             NaN                NaN   \n",
       "9093                             NaN                 DE   \n",
       "10120                            NaN                 DE   \n",
       "10565                            NaN                NaN   \n",
       "10943                            NaN                 DE   \n",
       "27861                            NaN                 DE   \n",
       "\n",
       "                event_data.name event_data.device_os  \n",
       "6198                        NaN                  NaN  \n",
       "6655                        NaN                  NaN  \n",
       "8543                        NaN                  NaN  \n",
       "9093   Felix Heinrich-Girschner              Android  \n",
       "10120        Elisabeth Hartmann              Android  \n",
       "10565                       NaN                  NaN  \n",
       "10943          Muharrem Ortmann                  iOS  \n",
       "27861  Isabell Hahn-Schmiedecke                  Web  "
      ]
     },
     "metadata": {},
     "output_type": "display_data"
    }
   ],
   "source": [
    "display(events[events.duplicated()])"
   ]
  },
  {
   "cell_type": "markdown",
   "metadata": {},
   "source": [
    "Postoji nekoliko identicnih dupliranih dogadjaja. U slucaju realne aplikacije, ovo bi moglo da ukazuje na bag u cuvanju samih podataka o dogadjajima. \n",
    "\n",
    "Vidimo da ovaj problem nije vezan za konkretan tip dogadjaja, sistem uredjaja ili vremenski trenutak. Ipak, zanimljiva stvar da se to desavalo korisnicima DE pri registraciji. Cisto iz radoznalosti, provericu da li je ovo slucajnost."
   ]
  },
  {
   "cell_type": "code",
   "execution_count": 60,
   "metadata": {
    "scrolled": true
   },
   "outputs": [
    {
     "name": "stdout",
     "output_type": "stream",
     "text": [
      "1893\n"
     ]
    }
   ],
   "source": [
    "registrationsDE = events[(events['event_type'] == 'registration') & (events['event_data.country'] == 'DE')][['event_id', 'event_timestamp', 'event_data.user_id', 'event_data.country', 'event_data.name', 'event_data.device_os']]\n",
    "print(len(registrationsDE))"
   ]
  },
  {
   "cell_type": "markdown",
   "metadata": {},
   "source": [
    "Kao sto vidimo imamo mnogo korisnika iz Nemacke kojima se ovo nikad nije desilo pri registraciji, tako da je u pitanju cista slucajnost. Svakako, brisemo duplikate."
   ]
  },
  {
   "cell_type": "code",
   "execution_count": 61,
   "metadata": {},
   "outputs": [
    {
     "name": "stdout",
     "output_type": "stream",
     "text": [
      "28036\n"
     ]
    }
   ],
   "source": [
    "events = events.drop_duplicates()\n",
    "print(len(events))"
   ]
  },
  {
   "cell_type": "markdown",
   "metadata": {},
   "source": [
    "Proverimo sada duplirane dogadjaje po svim ostalim kriterijumima osim event_id."
   ]
  },
  {
   "cell_type": "code",
   "execution_count": 62,
   "metadata": {},
   "outputs": [
    {
     "name": "stdout",
     "output_type": "stream",
     "text": [
      "207\n"
     ]
    },
    {
     "data": {
      "text/html": [
       "<div>\n",
       "<style scoped>\n",
       "    .dataframe tbody tr th:only-of-type {\n",
       "        vertical-align: middle;\n",
       "    }\n",
       "\n",
       "    .dataframe tbody tr th {\n",
       "        vertical-align: top;\n",
       "    }\n",
       "\n",
       "    .dataframe thead th {\n",
       "        text-align: right;\n",
       "    }\n",
       "</style>\n",
       "<table border=\"1\" class=\"dataframe\">\n",
       "  <thead>\n",
       "    <tr style=\"text-align: right;\">\n",
       "      <th></th>\n",
       "      <th>event_id</th>\n",
       "      <th>event_type</th>\n",
       "      <th>event_timestamp</th>\n",
       "      <th>event_data.user_id</th>\n",
       "      <th>event_data.transaction_currency</th>\n",
       "      <th>event_data.transaction_amount</th>\n",
       "      <th>event_data.country</th>\n",
       "      <th>event_data.name</th>\n",
       "      <th>event_data.device_os</th>\n",
       "    </tr>\n",
       "  </thead>\n",
       "  <tbody>\n",
       "    <tr>\n",
       "      <th>1518</th>\n",
       "      <td>19653</td>\n",
       "      <td>login</td>\n",
       "      <td>2010-05-21 23:59:57</td>\n",
       "      <td>32ef59c8-5bcb-11ed-84c2-8afbeb371208</td>\n",
       "      <td>NaN</td>\n",
       "      <td>NaN</td>\n",
       "      <td>NaN</td>\n",
       "      <td>NaN</td>\n",
       "      <td>NaN</td>\n",
       "    </tr>\n",
       "    <tr>\n",
       "      <th>2575</th>\n",
       "      <td>17037</td>\n",
       "      <td>login</td>\n",
       "      <td>2010-05-21 23:59:37</td>\n",
       "      <td>2b23e0d8-5bcb-11ed-84c2-8afbeb371208</td>\n",
       "      <td>NaN</td>\n",
       "      <td>NaN</td>\n",
       "      <td>NaN</td>\n",
       "      <td>NaN</td>\n",
       "      <td>NaN</td>\n",
       "    </tr>\n",
       "    <tr>\n",
       "      <th>2739</th>\n",
       "      <td>26376</td>\n",
       "      <td>login</td>\n",
       "      <td>2010-05-22 23:59:57</td>\n",
       "      <td>4aa530b0-5bcb-11ed-84c2-8afbeb371208</td>\n",
       "      <td>NaN</td>\n",
       "      <td>NaN</td>\n",
       "      <td>NaN</td>\n",
       "      <td>NaN</td>\n",
       "      <td>NaN</td>\n",
       "    </tr>\n",
       "    <tr>\n",
       "      <th>2807</th>\n",
       "      <td>25098</td>\n",
       "      <td>login</td>\n",
       "      <td>2010-05-22 23:59:58</td>\n",
       "      <td>2ff2002c-5bcb-11ed-84c2-8afbeb371208</td>\n",
       "      <td>NaN</td>\n",
       "      <td>NaN</td>\n",
       "      <td>NaN</td>\n",
       "      <td>NaN</td>\n",
       "      <td>NaN</td>\n",
       "    </tr>\n",
       "    <tr>\n",
       "      <th>3061</th>\n",
       "      <td>25603</td>\n",
       "      <td>login</td>\n",
       "      <td>2010-05-22 23:59:53</td>\n",
       "      <td>29dc7762-5bcb-11ed-84c2-8afbeb371208</td>\n",
       "      <td>NaN</td>\n",
       "      <td>NaN</td>\n",
       "      <td>NaN</td>\n",
       "      <td>NaN</td>\n",
       "      <td>NaN</td>\n",
       "    </tr>\n",
       "    <tr>\n",
       "      <th>3270</th>\n",
       "      <td>26856</td>\n",
       "      <td>login</td>\n",
       "      <td>2010-05-22 23:59:57</td>\n",
       "      <td>1e765b40-5bcb-11ed-84c2-8afbeb371208</td>\n",
       "      <td>NaN</td>\n",
       "      <td>NaN</td>\n",
       "      <td>NaN</td>\n",
       "      <td>NaN</td>\n",
       "      <td>NaN</td>\n",
       "    </tr>\n",
       "    <tr>\n",
       "      <th>3522</th>\n",
       "      <td>18897</td>\n",
       "      <td>login</td>\n",
       "      <td>2010-05-21 23:59:57</td>\n",
       "      <td>38ca35d4-5bcb-11ed-84c2-8afbeb371208</td>\n",
       "      <td>NaN</td>\n",
       "      <td>NaN</td>\n",
       "      <td>NaN</td>\n",
       "      <td>NaN</td>\n",
       "      <td>NaN</td>\n",
       "    </tr>\n",
       "  </tbody>\n",
       "</table>\n",
       "</div>"
      ],
      "text/plain": [
       "      event_id event_type     event_timestamp  \\\n",
       "1518     19653      login 2010-05-21 23:59:57   \n",
       "2575     17037      login 2010-05-21 23:59:37   \n",
       "2739     26376      login 2010-05-22 23:59:57   \n",
       "2807     25098      login 2010-05-22 23:59:58   \n",
       "3061     25603      login 2010-05-22 23:59:53   \n",
       "3270     26856      login 2010-05-22 23:59:57   \n",
       "3522     18897      login 2010-05-21 23:59:57   \n",
       "\n",
       "                        event_data.user_id event_data.transaction_currency  \\\n",
       "1518  32ef59c8-5bcb-11ed-84c2-8afbeb371208                             NaN   \n",
       "2575  2b23e0d8-5bcb-11ed-84c2-8afbeb371208                             NaN   \n",
       "2739  4aa530b0-5bcb-11ed-84c2-8afbeb371208                             NaN   \n",
       "2807  2ff2002c-5bcb-11ed-84c2-8afbeb371208                             NaN   \n",
       "3061  29dc7762-5bcb-11ed-84c2-8afbeb371208                             NaN   \n",
       "3270  1e765b40-5bcb-11ed-84c2-8afbeb371208                             NaN   \n",
       "3522  38ca35d4-5bcb-11ed-84c2-8afbeb371208                             NaN   \n",
       "\n",
       "      event_data.transaction_amount event_data.country event_data.name  \\\n",
       "1518                            NaN                NaN             NaN   \n",
       "2575                            NaN                NaN             NaN   \n",
       "2739                            NaN                NaN             NaN   \n",
       "2807                            NaN                NaN             NaN   \n",
       "3061                            NaN                NaN             NaN   \n",
       "3270                            NaN                NaN             NaN   \n",
       "3522                            NaN                NaN             NaN   \n",
       "\n",
       "     event_data.device_os  \n",
       "1518                  NaN  \n",
       "2575                  NaN  \n",
       "2739                  NaN  \n",
       "2807                  NaN  \n",
       "3061                  NaN  \n",
       "3270                  NaN  \n",
       "3522                  NaN  "
      ]
     },
     "metadata": {},
     "output_type": "display_data"
    }
   ],
   "source": [
    "duplicatedEvents = events[events.duplicated(subset=events.columns.difference(['event_id']))]\n",
    "print(len(duplicatedEvents))\n",
    "display(duplicatedEvents.head(7))"
   ]
  },
  {
   "cell_type": "markdown",
   "metadata": {},
   "source": [
    "Cak 207 dupliranih redova. Da li su sve duplirane akcije vezane za logovanje?"
   ]
  },
  {
   "cell_type": "code",
   "execution_count": 63,
   "metadata": {},
   "outputs": [
    {
     "data": {
      "text/html": [
       "<div>\n",
       "<style scoped>\n",
       "    .dataframe tbody tr th:only-of-type {\n",
       "        vertical-align: middle;\n",
       "    }\n",
       "\n",
       "    .dataframe tbody tr th {\n",
       "        vertical-align: top;\n",
       "    }\n",
       "\n",
       "    .dataframe thead th {\n",
       "        text-align: right;\n",
       "    }\n",
       "</style>\n",
       "<table border=\"1\" class=\"dataframe\">\n",
       "  <thead>\n",
       "    <tr style=\"text-align: right;\">\n",
       "      <th></th>\n",
       "      <th>event_id</th>\n",
       "      <th>event_type</th>\n",
       "      <th>event_timestamp</th>\n",
       "      <th>event_data.user_id</th>\n",
       "      <th>event_data.transaction_currency</th>\n",
       "      <th>event_data.transaction_amount</th>\n",
       "      <th>event_data.country</th>\n",
       "      <th>event_data.name</th>\n",
       "      <th>event_data.device_os</th>\n",
       "    </tr>\n",
       "  </thead>\n",
       "  <tbody>\n",
       "    <tr>\n",
       "      <th>27448</th>\n",
       "      <td>2715784</td>\n",
       "      <td>transaction</td>\n",
       "      <td>2010-05-21 23:55:24</td>\n",
       "      <td>1d67f3da-5bcb-11ed-84c2-8afbeb371208</td>\n",
       "      <td>EUR</td>\n",
       "      <td>1.99</td>\n",
       "      <td>NaN</td>\n",
       "      <td>NaN</td>\n",
       "      <td>NaN</td>\n",
       "    </tr>\n",
       "  </tbody>\n",
       "</table>\n",
       "</div>"
      ],
      "text/plain": [
       "       event_id   event_type     event_timestamp  \\\n",
       "27448   2715784  transaction 2010-05-21 23:55:24   \n",
       "\n",
       "                         event_data.user_id event_data.transaction_currency  \\\n",
       "27448  1d67f3da-5bcb-11ed-84c2-8afbeb371208                             EUR   \n",
       "\n",
       "       event_data.transaction_amount event_data.country event_data.name  \\\n",
       "27448                           1.99                NaN             NaN   \n",
       "\n",
       "      event_data.device_os  \n",
       "27448                  NaN  "
      ]
     },
     "metadata": {},
     "output_type": "display_data"
    }
   ],
   "source": [
    "display(duplicatedEvents[duplicatedEvents['event_type'] != 'login'])"
   ]
  },
  {
   "cell_type": "markdown",
   "metadata": {},
   "source": [
    "Duplo logovanje od strane istog korisnika u istom vremenskom trenutku nije moguce i te duplirane redove treba odbaciti. Postavlja se pitanje sta raditi za dupliranu transakciju? Ako usvojimo pretpostavku da se transakcija belezi onda kada korisnik u aplikaciji kupi nesto, a ne kada novac legne na racun onda treba ukloniti i ovu dodatnu transakciju jer je nemoguce u istom trenutku izvrsiti dve transakcije."
   ]
  },
  {
   "cell_type": "code",
   "execution_count": 64,
   "metadata": {},
   "outputs": [
    {
     "name": "stdout",
     "output_type": "stream",
     "text": [
      "27829\n"
     ]
    }
   ],
   "source": [
    "events = events[~events['event_id'].isin(duplicatedEvents['event_id'])]\n",
    "print(len(events))"
   ]
  },
  {
   "cell_type": "markdown",
   "metadata": {},
   "source": [
    "Da li su preostale jos neke akcije koje su se desile u istom trenutku od strane jednog korisnika."
   ]
  },
  {
   "cell_type": "code",
   "execution_count": 65,
   "metadata": {},
   "outputs": [
    {
     "data": {
      "text/html": [
       "<div>\n",
       "<style scoped>\n",
       "    .dataframe tbody tr th:only-of-type {\n",
       "        vertical-align: middle;\n",
       "    }\n",
       "\n",
       "    .dataframe tbody tr th {\n",
       "        vertical-align: top;\n",
       "    }\n",
       "\n",
       "    .dataframe thead th {\n",
       "        text-align: right;\n",
       "    }\n",
       "</style>\n",
       "<table border=\"1\" class=\"dataframe\">\n",
       "  <thead>\n",
       "    <tr style=\"text-align: right;\">\n",
       "      <th></th>\n",
       "      <th>event_id</th>\n",
       "      <th>event_type</th>\n",
       "      <th>event_timestamp</th>\n",
       "      <th>event_data.user_id</th>\n",
       "      <th>event_data.transaction_currency</th>\n",
       "      <th>event_data.transaction_amount</th>\n",
       "      <th>event_data.country</th>\n",
       "      <th>event_data.name</th>\n",
       "      <th>event_data.device_os</th>\n",
       "    </tr>\n",
       "  </thead>\n",
       "  <tbody>\n",
       "    <tr>\n",
       "      <th>15379</th>\n",
       "      <td>27510</td>\n",
       "      <td>transaction</td>\n",
       "      <td>2010-05-18 23:17:48</td>\n",
       "      <td>1ea08dac-5bcb-11ed-84c2-8afbeb371208</td>\n",
       "      <td>EUR</td>\n",
       "      <td>9.900000e-01</td>\n",
       "      <td>NaN</td>\n",
       "      <td>NaN</td>\n",
       "      <td>NaN</td>\n",
       "    </tr>\n",
       "    <tr>\n",
       "      <th>18807</th>\n",
       "      <td>275110</td>\n",
       "      <td>transaction</td>\n",
       "      <td>2010-05-18 23:17:48</td>\n",
       "      <td>1ea08dac-5bcb-11ed-84c2-8afbeb371208</td>\n",
       "      <td>EUR</td>\n",
       "      <td>1.000000e+08</td>\n",
       "      <td>NaN</td>\n",
       "      <td>NaN</td>\n",
       "      <td>NaN</td>\n",
       "    </tr>\n",
       "    <tr>\n",
       "      <th>21903</th>\n",
       "      <td>2421113</td>\n",
       "      <td>registration</td>\n",
       "      <td>2010-05-20 05:25:57</td>\n",
       "      <td>28320012-5bcb-11ed-84c2-8afbeb371208</td>\n",
       "      <td>NaN</td>\n",
       "      <td>NaN</td>\n",
       "      <td>Terraforming_Mars</td>\n",
       "      <td>Stacey King</td>\n",
       "      <td>iOS</td>\n",
       "    </tr>\n",
       "    <tr>\n",
       "      <th>26358</th>\n",
       "      <td>2413</td>\n",
       "      <td>registration</td>\n",
       "      <td>2010-05-20 05:25:57</td>\n",
       "      <td>28320012-5bcb-11ed-84c2-8afbeb371208</td>\n",
       "      <td>NaN</td>\n",
       "      <td>NaN</td>\n",
       "      <td>US</td>\n",
       "      <td>Stacey King</td>\n",
       "      <td>iOS</td>\n",
       "    </tr>\n",
       "    <tr>\n",
       "      <th>8504</th>\n",
       "      <td>24752</td>\n",
       "      <td>login</td>\n",
       "      <td>2010-05-22 23:59:52</td>\n",
       "      <td>3c02420a-5bcb-11ed-84c2-8afbeb371208</td>\n",
       "      <td>NaN</td>\n",
       "      <td>NaN</td>\n",
       "      <td>NaN</td>\n",
       "      <td>NaN</td>\n",
       "      <td>NaN</td>\n",
       "    </tr>\n",
       "    <tr>\n",
       "      <th>15764</th>\n",
       "      <td>5155</td>\n",
       "      <td>registration</td>\n",
       "      <td>2010-05-22 23:59:52</td>\n",
       "      <td>3c02420a-5bcb-11ed-84c2-8afbeb371208</td>\n",
       "      <td>NaN</td>\n",
       "      <td>NaN</td>\n",
       "      <td>ES</td>\n",
       "      <td>Julia Prudencia Barbero Cazorla</td>\n",
       "      <td>iOS</td>\n",
       "    </tr>\n",
       "  </tbody>\n",
       "</table>\n",
       "</div>"
      ],
      "text/plain": [
       "       event_id    event_type     event_timestamp  \\\n",
       "15379     27510   transaction 2010-05-18 23:17:48   \n",
       "18807    275110   transaction 2010-05-18 23:17:48   \n",
       "21903   2421113  registration 2010-05-20 05:25:57   \n",
       "26358      2413  registration 2010-05-20 05:25:57   \n",
       "8504      24752         login 2010-05-22 23:59:52   \n",
       "15764      5155  registration 2010-05-22 23:59:52   \n",
       "\n",
       "                         event_data.user_id event_data.transaction_currency  \\\n",
       "15379  1ea08dac-5bcb-11ed-84c2-8afbeb371208                             EUR   \n",
       "18807  1ea08dac-5bcb-11ed-84c2-8afbeb371208                             EUR   \n",
       "21903  28320012-5bcb-11ed-84c2-8afbeb371208                             NaN   \n",
       "26358  28320012-5bcb-11ed-84c2-8afbeb371208                             NaN   \n",
       "8504   3c02420a-5bcb-11ed-84c2-8afbeb371208                             NaN   \n",
       "15764  3c02420a-5bcb-11ed-84c2-8afbeb371208                             NaN   \n",
       "\n",
       "       event_data.transaction_amount event_data.country  \\\n",
       "15379                   9.900000e-01                NaN   \n",
       "18807                   1.000000e+08                NaN   \n",
       "21903                            NaN  Terraforming_Mars   \n",
       "26358                            NaN                 US   \n",
       "8504                             NaN                NaN   \n",
       "15764                            NaN                 ES   \n",
       "\n",
       "                       event_data.name event_data.device_os  \n",
       "15379                              NaN                  NaN  \n",
       "18807                              NaN                  NaN  \n",
       "21903                      Stacey King                  iOS  \n",
       "26358                      Stacey King                  iOS  \n",
       "8504                               NaN                  NaN  \n",
       "15764  Julia Prudencia Barbero Cazorla                  iOS  "
      ]
     },
     "metadata": {},
     "output_type": "display_data"
    }
   ],
   "source": [
    "duplicatedEvents = events[events.duplicated(['event_data.user_id', 'event_timestamp'], keep = False)]\n",
    "display(duplicatedEvents.sort_values(['event_data.user_id', 'event_timestamp']))"
   ]
  },
  {
   "cell_type": "markdown",
   "metadata": {},
   "source": [
    "Prvi slucaj: duplirane transakcije razlicitog iznosa. Vec smo imali duplirane transakcije i usvojili smo pretpostavku da se one ne smeju desiti u isto vreme. Ovde cemo odbaciti transakciju sa nevalidnom vrednoscu za kolonu event_data.transaction_amount.\n",
    "\n",
    "Drugi slucaj: duplirana registracija. Svaki korisnik moze da se registruje samo jedanput (preciznije svaki registracioni id sme da se pojavi jedanput), pa cemo ovde odbaciti registraciju sa nevalidnom drzavom.\n",
    "\n",
    "Treci slucaj: logovanje u istom trenutku kad i registracija. U nekim aplikacijama, odmah po registraciji korisnik biva automatski logovan u sistem. Ako se ta akcija belezi kao logovanje, onda bi i svi ostali korisnici imali ovakav scenario sto nije slucaj, tako da ovo jeste prljav podatak.\n",
    "\n",
    "Pre brisanja treba potraziti ostale akcije ovog korisnika."
   ]
  },
  {
   "cell_type": "code",
   "execution_count": 66,
   "metadata": {},
   "outputs": [
    {
     "data": {
      "text/html": [
       "<div>\n",
       "<style scoped>\n",
       "    .dataframe tbody tr th:only-of-type {\n",
       "        vertical-align: middle;\n",
       "    }\n",
       "\n",
       "    .dataframe tbody tr th {\n",
       "        vertical-align: top;\n",
       "    }\n",
       "\n",
       "    .dataframe thead th {\n",
       "        text-align: right;\n",
       "    }\n",
       "</style>\n",
       "<table border=\"1\" class=\"dataframe\">\n",
       "  <thead>\n",
       "    <tr style=\"text-align: right;\">\n",
       "      <th></th>\n",
       "      <th>event_id</th>\n",
       "      <th>event_type</th>\n",
       "      <th>event_timestamp</th>\n",
       "      <th>event_data.user_id</th>\n",
       "      <th>event_data.transaction_currency</th>\n",
       "      <th>event_data.transaction_amount</th>\n",
       "      <th>event_data.country</th>\n",
       "      <th>event_data.name</th>\n",
       "      <th>event_data.device_os</th>\n",
       "    </tr>\n",
       "  </thead>\n",
       "  <tbody>\n",
       "    <tr>\n",
       "      <th>8504</th>\n",
       "      <td>24752</td>\n",
       "      <td>login</td>\n",
       "      <td>2010-05-22 23:59:52</td>\n",
       "      <td>3c02420a-5bcb-11ed-84c2-8afbeb371208</td>\n",
       "      <td>NaN</td>\n",
       "      <td>NaN</td>\n",
       "      <td>NaN</td>\n",
       "      <td>NaN</td>\n",
       "      <td>NaN</td>\n",
       "    </tr>\n",
       "    <tr>\n",
       "      <th>15764</th>\n",
       "      <td>5155</td>\n",
       "      <td>registration</td>\n",
       "      <td>2010-05-22 23:59:52</td>\n",
       "      <td>3c02420a-5bcb-11ed-84c2-8afbeb371208</td>\n",
       "      <td>NaN</td>\n",
       "      <td>NaN</td>\n",
       "      <td>ES</td>\n",
       "      <td>Julia Prudencia Barbero Cazorla</td>\n",
       "      <td>iOS</td>\n",
       "    </tr>\n",
       "  </tbody>\n",
       "</table>\n",
       "</div>"
      ],
      "text/plain": [
       "       event_id    event_type     event_timestamp  \\\n",
       "8504      24752         login 2010-05-22 23:59:52   \n",
       "15764      5155  registration 2010-05-22 23:59:52   \n",
       "\n",
       "                         event_data.user_id event_data.transaction_currency  \\\n",
       "8504   3c02420a-5bcb-11ed-84c2-8afbeb371208                             NaN   \n",
       "15764  3c02420a-5bcb-11ed-84c2-8afbeb371208                             NaN   \n",
       "\n",
       "       event_data.transaction_amount event_data.country  \\\n",
       "8504                             NaN                NaN   \n",
       "15764                            NaN                 ES   \n",
       "\n",
       "                       event_data.name event_data.device_os  \n",
       "8504                               NaN                  NaN  \n",
       "15764  Julia Prudencia Barbero Cazorla                  iOS  "
      ]
     },
     "metadata": {},
     "output_type": "display_data"
    }
   ],
   "source": [
    "display(events[events['event_data.user_id'] == '3c02420a-5bcb-11ed-84c2-8afbeb371208'])"
   ]
  },
  {
   "cell_type": "markdown",
   "metadata": {},
   "source": [
    "Ovo su jedine dve akcije ovog korisnika. Ostaje otvoreno pitanje sta raditi sa ove dve akcije. Mozemo ih ukloniti obe, ili ukloniti samo logovanje. Po mom misljenju obe opcije su validne, ali ovde cemo pretpostaviti da se logovanje slucajno zadesilo prilikom registracije, tako da cemo ukloniti samo logovanje. Sada obrisimo sve ove prljave podatke."
   ]
  },
  {
   "cell_type": "code",
   "execution_count": 67,
   "metadata": {},
   "outputs": [
    {
     "name": "stdout",
     "output_type": "stream",
     "text": [
      "27826\n"
     ]
    }
   ],
   "source": [
    "events = events[~events['event_id'].isin(['275110', '2421113', '24752'])]\n",
    "print(len(events))"
   ]
  },
  {
   "cell_type": "markdown",
   "metadata": {},
   "source": [
    "Posto registracija korisnika moze da se obavi tacno jedanput. Proverimo da li postoje igraci za koje su zabelezene visestruke registracije ili korisnici bez registracije, a koji su izvrsili transakciju i/ili logovanje."
   ]
  },
  {
   "cell_type": "code",
   "execution_count": 68,
   "metadata": {},
   "outputs": [
    {
     "data": {
      "text/html": [
       "<div>\n",
       "<style scoped>\n",
       "    .dataframe tbody tr th:only-of-type {\n",
       "        vertical-align: middle;\n",
       "    }\n",
       "\n",
       "    .dataframe tbody tr th {\n",
       "        vertical-align: top;\n",
       "    }\n",
       "\n",
       "    .dataframe thead th {\n",
       "        text-align: right;\n",
       "    }\n",
       "</style>\n",
       "<table border=\"1\" class=\"dataframe\">\n",
       "  <thead>\n",
       "    <tr style=\"text-align: right;\">\n",
       "      <th></th>\n",
       "      <th>event_id</th>\n",
       "      <th>event_type</th>\n",
       "      <th>event_timestamp</th>\n",
       "      <th>event_data.user_id</th>\n",
       "      <th>event_data.transaction_currency</th>\n",
       "      <th>event_data.transaction_amount</th>\n",
       "      <th>event_data.country</th>\n",
       "      <th>event_data.name</th>\n",
       "      <th>event_data.device_os</th>\n",
       "    </tr>\n",
       "  </thead>\n",
       "  <tbody>\n",
       "  </tbody>\n",
       "</table>\n",
       "</div>"
      ],
      "text/plain": [
       "Empty DataFrame\n",
       "Columns: [event_id, event_type, event_timestamp, event_data.user_id, event_data.transaction_currency, event_data.transaction_amount, event_data.country, event_data.name, event_data.device_os]\n",
       "Index: []"
      ]
     },
     "metadata": {},
     "output_type": "display_data"
    }
   ],
   "source": [
    "registrationEventsByUser = events[events['event_type'] == 'registration'].groupby('event_data.user_id')\n",
    "notOneRegistration = registrationEventsByUser.filter(lambda group: len(group) != 1)\n",
    "display(notOneRegistration)"
   ]
  },
  {
   "cell_type": "code",
   "execution_count": 69,
   "metadata": {},
   "outputs": [
    {
     "name": "stdout",
     "output_type": "stream",
     "text": [
      "Jedinstvenih korisnika koji su uradili logovanje i/ili transakciju:  6146\n",
      "Ukupno registracija:  7483\n",
      "Ukupno jedinstvenih registracija:  7483\n",
      "Broj korisnika bez registracije:  0\n"
     ]
    }
   ],
   "source": [
    "#uniqueEvents = events['even']\n",
    "noRegistrationEvents = events[events['event_type'] != 'registration']\n",
    "noRegistrationEvents = noRegistrationEvents.drop_duplicates(subset=['event_data.user_id'])\n",
    "print('Jedinstvenih korisnika koji su uradili logovanje i/ili transakciju: ', len(noRegistrationEvents))\n",
    "\n",
    "registrationsEvent = events[events['event_type'] == 'registration']\n",
    "print('Ukupno registracija: ', len(registrationsEvent))\n",
    "\n",
    "numOfUniqueRegistrations = registrationsEvent[['event_data.user_id']].drop_duplicates().shape[0]\n",
    "print('Ukupno jedinstvenih registracija: ', numOfUniqueRegistrations)\n",
    "\n",
    "userWithoutReg = noRegistrationEvents[~noRegistrationEvents['event_data.user_id'].isin(registrationsEvent['event_data.user_id'])]\n",
    "print('Broj korisnika bez registracije: ', len(userWithoutReg))"
   ]
  },
  {
   "cell_type": "markdown",
   "metadata": {},
   "source": [
    "Dakle, svi korisnici trenutno imaju tacno jednu registraciju. Proverimo sada da li je ta registracija prva akcija svakog korisnika."
   ]
  },
  {
   "cell_type": "code",
   "execution_count": 70,
   "metadata": {},
   "outputs": [
    {
     "data": {
      "text/html": [
       "<div>\n",
       "<style scoped>\n",
       "    .dataframe tbody tr th:only-of-type {\n",
       "        vertical-align: middle;\n",
       "    }\n",
       "\n",
       "    .dataframe tbody tr th {\n",
       "        vertical-align: top;\n",
       "    }\n",
       "\n",
       "    .dataframe thead th {\n",
       "        text-align: right;\n",
       "    }\n",
       "</style>\n",
       "<table border=\"1\" class=\"dataframe\">\n",
       "  <thead>\n",
       "    <tr style=\"text-align: right;\">\n",
       "      <th></th>\n",
       "      <th>event_id</th>\n",
       "      <th>event_type</th>\n",
       "      <th>event_timestamp</th>\n",
       "      <th>event_data.user_id</th>\n",
       "      <th>event_data.transaction_currency</th>\n",
       "      <th>event_data.transaction_amount</th>\n",
       "      <th>event_data.country</th>\n",
       "      <th>event_data.name</th>\n",
       "      <th>event_data.device_os</th>\n",
       "    </tr>\n",
       "  </thead>\n",
       "  <tbody>\n",
       "    <tr>\n",
       "      <th>15019</th>\n",
       "      <td>276317</td>\n",
       "      <td>transaction</td>\n",
       "      <td>2010-05-18 16:16:34</td>\n",
       "      <td>29620a54-5bcb-11ed-84c2-8afbeb371208</td>\n",
       "      <td>Potato</td>\n",
       "      <td>0.99</td>\n",
       "      <td>NaN</td>\n",
       "      <td>NaN</td>\n",
       "      <td>NaN</td>\n",
       "    </tr>\n",
       "  </tbody>\n",
       "</table>\n",
       "</div>"
      ],
      "text/plain": [
       "       event_id   event_type     event_timestamp  \\\n",
       "15019    276317  transaction 2010-05-18 16:16:34   \n",
       "\n",
       "                         event_data.user_id event_data.transaction_currency  \\\n",
       "15019  29620a54-5bcb-11ed-84c2-8afbeb371208                          Potato   \n",
       "\n",
       "       event_data.transaction_amount event_data.country event_data.name  \\\n",
       "15019                           0.99                NaN             NaN   \n",
       "\n",
       "      event_data.device_os  \n",
       "15019                  NaN  "
      ]
     },
     "metadata": {},
     "output_type": "display_data"
    }
   ],
   "source": [
    "idx = events.groupby(['event_data.user_id'])['event_timestamp'].transform(min) == events['event_timestamp']\n",
    "\n",
    "firstEventsByUser = events[idx]\n",
    "display(firstEventsByUser[firstEventsByUser['event_type'] != 'registration'])"
   ]
  },
  {
   "cell_type": "markdown",
   "metadata": {},
   "source": [
    "Dakle postoji korisnik cija je prva akcija bila transakcija, a ne registracija. Pretrazimo detaljnije akcije tog korisnika."
   ]
  },
  {
   "cell_type": "code",
   "execution_count": 71,
   "metadata": {},
   "outputs": [
    {
     "data": {
      "text/html": [
       "<div>\n",
       "<style scoped>\n",
       "    .dataframe tbody tr th:only-of-type {\n",
       "        vertical-align: middle;\n",
       "    }\n",
       "\n",
       "    .dataframe tbody tr th {\n",
       "        vertical-align: top;\n",
       "    }\n",
       "\n",
       "    .dataframe thead th {\n",
       "        text-align: right;\n",
       "    }\n",
       "</style>\n",
       "<table border=\"1\" class=\"dataframe\">\n",
       "  <thead>\n",
       "    <tr style=\"text-align: right;\">\n",
       "      <th></th>\n",
       "      <th>event_id</th>\n",
       "      <th>event_type</th>\n",
       "      <th>event_timestamp</th>\n",
       "      <th>event_data.user_id</th>\n",
       "      <th>event_data.transaction_currency</th>\n",
       "      <th>event_data.transaction_amount</th>\n",
       "      <th>event_data.country</th>\n",
       "      <th>event_data.name</th>\n",
       "      <th>event_data.device_os</th>\n",
       "    </tr>\n",
       "  </thead>\n",
       "  <tbody>\n",
       "    <tr>\n",
       "      <th>15019</th>\n",
       "      <td>276317</td>\n",
       "      <td>transaction</td>\n",
       "      <td>2010-05-18 16:16:34</td>\n",
       "      <td>29620a54-5bcb-11ed-84c2-8afbeb371208</td>\n",
       "      <td>Potato</td>\n",
       "      <td>0.99</td>\n",
       "      <td>NaN</td>\n",
       "      <td>NaN</td>\n",
       "      <td>NaN</td>\n",
       "    </tr>\n",
       "    <tr>\n",
       "      <th>21993</th>\n",
       "      <td>2577</td>\n",
       "      <td>registration</td>\n",
       "      <td>2010-05-20 23:09:09</td>\n",
       "      <td>29620a54-5bcb-11ed-84c2-8afbeb371208</td>\n",
       "      <td>NaN</td>\n",
       "      <td>NaN</td>\n",
       "      <td>DE</td>\n",
       "      <td>Ing. Hans-Henning Jockel B.A.</td>\n",
       "      <td>iOS</td>\n",
       "    </tr>\n",
       "    <tr>\n",
       "      <th>23411</th>\n",
       "      <td>13057</td>\n",
       "      <td>login</td>\n",
       "      <td>2010-05-20 23:30:34</td>\n",
       "      <td>29620a54-5bcb-11ed-84c2-8afbeb371208</td>\n",
       "      <td>NaN</td>\n",
       "      <td>NaN</td>\n",
       "      <td>NaN</td>\n",
       "      <td>NaN</td>\n",
       "      <td>NaN</td>\n",
       "    </tr>\n",
       "    <tr>\n",
       "      <th>13758</th>\n",
       "      <td>27637</td>\n",
       "      <td>transaction</td>\n",
       "      <td>2010-05-20 23:49:54</td>\n",
       "      <td>29620a54-5bcb-11ed-84c2-8afbeb371208</td>\n",
       "      <td>EUR</td>\n",
       "      <td>0.99</td>\n",
       "      <td>NaN</td>\n",
       "      <td>NaN</td>\n",
       "      <td>NaN</td>\n",
       "    </tr>\n",
       "    <tr>\n",
       "      <th>20960</th>\n",
       "      <td>15196</td>\n",
       "      <td>login</td>\n",
       "      <td>2010-05-20 23:59:57</td>\n",
       "      <td>29620a54-5bcb-11ed-84c2-8afbeb371208</td>\n",
       "      <td>NaN</td>\n",
       "      <td>NaN</td>\n",
       "      <td>NaN</td>\n",
       "      <td>NaN</td>\n",
       "      <td>NaN</td>\n",
       "    </tr>\n",
       "    <tr>\n",
       "      <th>17947</th>\n",
       "      <td>17563</td>\n",
       "      <td>login</td>\n",
       "      <td>2010-05-21 23:57:30</td>\n",
       "      <td>29620a54-5bcb-11ed-84c2-8afbeb371208</td>\n",
       "      <td>NaN</td>\n",
       "      <td>NaN</td>\n",
       "      <td>NaN</td>\n",
       "      <td>NaN</td>\n",
       "      <td>NaN</td>\n",
       "    </tr>\n",
       "    <tr>\n",
       "      <th>5971</th>\n",
       "      <td>24017</td>\n",
       "      <td>login</td>\n",
       "      <td>2010-05-22 23:58:55</td>\n",
       "      <td>29620a54-5bcb-11ed-84c2-8afbeb371208</td>\n",
       "      <td>NaN</td>\n",
       "      <td>NaN</td>\n",
       "      <td>NaN</td>\n",
       "      <td>NaN</td>\n",
       "      <td>NaN</td>\n",
       "    </tr>\n",
       "    <tr>\n",
       "      <th>27348</th>\n",
       "      <td>24014</td>\n",
       "      <td>login</td>\n",
       "      <td>2010-05-22 23:59:46</td>\n",
       "      <td>29620a54-5bcb-11ed-84c2-8afbeb371208</td>\n",
       "      <td>NaN</td>\n",
       "      <td>NaN</td>\n",
       "      <td>NaN</td>\n",
       "      <td>NaN</td>\n",
       "      <td>NaN</td>\n",
       "    </tr>\n",
       "  </tbody>\n",
       "</table>\n",
       "</div>"
      ],
      "text/plain": [
       "       event_id    event_type     event_timestamp  \\\n",
       "15019    276317   transaction 2010-05-18 16:16:34   \n",
       "21993      2577  registration 2010-05-20 23:09:09   \n",
       "23411     13057         login 2010-05-20 23:30:34   \n",
       "13758     27637   transaction 2010-05-20 23:49:54   \n",
       "20960     15196         login 2010-05-20 23:59:57   \n",
       "17947     17563         login 2010-05-21 23:57:30   \n",
       "5971      24017         login 2010-05-22 23:58:55   \n",
       "27348     24014         login 2010-05-22 23:59:46   \n",
       "\n",
       "                         event_data.user_id event_data.transaction_currency  \\\n",
       "15019  29620a54-5bcb-11ed-84c2-8afbeb371208                          Potato   \n",
       "21993  29620a54-5bcb-11ed-84c2-8afbeb371208                             NaN   \n",
       "23411  29620a54-5bcb-11ed-84c2-8afbeb371208                             NaN   \n",
       "13758  29620a54-5bcb-11ed-84c2-8afbeb371208                             EUR   \n",
       "20960  29620a54-5bcb-11ed-84c2-8afbeb371208                             NaN   \n",
       "17947  29620a54-5bcb-11ed-84c2-8afbeb371208                             NaN   \n",
       "5971   29620a54-5bcb-11ed-84c2-8afbeb371208                             NaN   \n",
       "27348  29620a54-5bcb-11ed-84c2-8afbeb371208                             NaN   \n",
       "\n",
       "       event_data.transaction_amount event_data.country  \\\n",
       "15019                           0.99                NaN   \n",
       "21993                            NaN                 DE   \n",
       "23411                            NaN                NaN   \n",
       "13758                           0.99                NaN   \n",
       "20960                            NaN                NaN   \n",
       "17947                            NaN                NaN   \n",
       "5971                             NaN                NaN   \n",
       "27348                            NaN                NaN   \n",
       "\n",
       "                     event_data.name event_data.device_os  \n",
       "15019                            NaN                  NaN  \n",
       "21993  Ing. Hans-Henning Jockel B.A.                  iOS  \n",
       "23411                            NaN                  NaN  \n",
       "13758                            NaN                  NaN  \n",
       "20960                            NaN                  NaN  \n",
       "17947                            NaN                  NaN  \n",
       "5971                             NaN                  NaN  \n",
       "27348                            NaN                  NaN  "
      ]
     },
     "metadata": {},
     "output_type": "display_data"
    }
   ],
   "source": [
    "display(events[events['event_data.user_id'] == '29620a54-5bcb-11ed-84c2-8afbeb371208'].sort_values('event_timestamp'))"
   ]
  },
  {
   "cell_type": "markdown",
   "metadata": {},
   "source": [
    "Ostale akcije su validne. Zakljucak: samo krompir transakciju treba ukloniti :D"
   ]
  },
  {
   "cell_type": "code",
   "execution_count": 72,
   "metadata": {},
   "outputs": [
    {
     "data": {
      "text/plain": [
       "27825"
      ]
     },
     "execution_count": 72,
     "metadata": {},
     "output_type": "execute_result"
    }
   ],
   "source": [
    "events = events[events['event_id'] != 276317]\n",
    "len(events)"
   ]
  },
  {
   "cell_type": "markdown",
   "metadata": {},
   "source": [
    "Zanimljivo bi bilo sagledati da li je dozvoljeno izvrsiti transakciju pre logovanja na sistem. U tekstu zadatka pise da je transakcija in-app purchase tako da je logicno zakljuciti da je neophodno da korisnik bude ulogovan.\n",
    "\n",
    "Potrazimo sve korisnike koji kao prvu ili kao prvih x akcija imaju transakciju (ne racunajuci registraciju). Pronadjimo za pocetak samo prve transakcije."
   ]
  },
  {
   "cell_type": "code",
   "execution_count": 73,
   "metadata": {},
   "outputs": [
    {
     "name": "stdout",
     "output_type": "stream",
     "text": [
      "Broj korisnika koji imaju transakciju za prvu akciju (ne racunajuci registraciju): 288\n",
      "Ukupan broj transakcija: 629\n"
     ]
    }
   ],
   "source": [
    "noRegEvents = events[events['event_type'] != 'registration'] # transakcije i logovanja\n",
    "\n",
    "idsFirst = noRegEvents.groupby('event_data.user_id').event_timestamp.idxmin()\n",
    "first = noRegEvents.loc[idsFirst]\n",
    "print('Broj korisnika koji imaju transakciju za prvu akciju (ne racunajuci registraciju):', len(first[first['event_type'] == 'transaction']))\n",
    "\n",
    "transactions = events[events['event_type'] == 'transaction']\n",
    "print('Ukupan broj transakcija:', len(transactions))"
   ]
  },
  {
   "cell_type": "markdown",
   "metadata": {},
   "source": [
    "Ovo je dosta veliki broj transakcija u odnosu na njihov ukupan broj. Usvojicemo pretpostavku da kada se korisnik uspesno registruje, on automatski biva ulogovan na sistem, ali se ta akcija ne smatra zasebnom akcijom logovanja. Prema tome, dozvoljeno je da se izvrsi transakcija i pre prvog zabelezenog logovanja."
   ]
  },
  {
   "cell_type": "markdown",
   "metadata": {},
   "source": [
    "Da li postoje dogadjaji sa podacima koji im ne pripadaju?"
   ]
  },
  {
   "cell_type": "code",
   "execution_count": 74,
   "metadata": {},
   "outputs": [
    {
     "data": {
      "text/html": [
       "<div>\n",
       "<style scoped>\n",
       "    .dataframe tbody tr th:only-of-type {\n",
       "        vertical-align: middle;\n",
       "    }\n",
       "\n",
       "    .dataframe tbody tr th {\n",
       "        vertical-align: top;\n",
       "    }\n",
       "\n",
       "    .dataframe thead th {\n",
       "        text-align: right;\n",
       "    }\n",
       "</style>\n",
       "<table border=\"1\" class=\"dataframe\">\n",
       "  <thead>\n",
       "    <tr style=\"text-align: right;\">\n",
       "      <th></th>\n",
       "      <th>event_id</th>\n",
       "      <th>event_type</th>\n",
       "      <th>event_timestamp</th>\n",
       "      <th>event_data.user_id</th>\n",
       "      <th>event_data.transaction_currency</th>\n",
       "      <th>event_data.transaction_amount</th>\n",
       "      <th>event_data.country</th>\n",
       "      <th>event_data.name</th>\n",
       "      <th>event_data.device_os</th>\n",
       "    </tr>\n",
       "  </thead>\n",
       "  <tbody>\n",
       "  </tbody>\n",
       "</table>\n",
       "</div>"
      ],
      "text/plain": [
       "Empty DataFrame\n",
       "Columns: [event_id, event_type, event_timestamp, event_data.user_id, event_data.transaction_currency, event_data.transaction_amount, event_data.country, event_data.name, event_data.device_os]\n",
       "Index: []"
      ]
     },
     "metadata": {},
     "output_type": "display_data"
    },
    {
     "data": {
      "text/html": [
       "<div>\n",
       "<style scoped>\n",
       "    .dataframe tbody tr th:only-of-type {\n",
       "        vertical-align: middle;\n",
       "    }\n",
       "\n",
       "    .dataframe tbody tr th {\n",
       "        vertical-align: top;\n",
       "    }\n",
       "\n",
       "    .dataframe thead th {\n",
       "        text-align: right;\n",
       "    }\n",
       "</style>\n",
       "<table border=\"1\" class=\"dataframe\">\n",
       "  <thead>\n",
       "    <tr style=\"text-align: right;\">\n",
       "      <th></th>\n",
       "      <th>event_id</th>\n",
       "      <th>event_type</th>\n",
       "      <th>event_timestamp</th>\n",
       "      <th>event_data.user_id</th>\n",
       "      <th>event_data.transaction_currency</th>\n",
       "      <th>event_data.transaction_amount</th>\n",
       "      <th>event_data.country</th>\n",
       "      <th>event_data.name</th>\n",
       "      <th>event_data.device_os</th>\n",
       "    </tr>\n",
       "  </thead>\n",
       "  <tbody>\n",
       "  </tbody>\n",
       "</table>\n",
       "</div>"
      ],
      "text/plain": [
       "Empty DataFrame\n",
       "Columns: [event_id, event_type, event_timestamp, event_data.user_id, event_data.transaction_currency, event_data.transaction_amount, event_data.country, event_data.name, event_data.device_os]\n",
       "Index: []"
      ]
     },
     "metadata": {},
     "output_type": "display_data"
    },
    {
     "data": {
      "text/html": [
       "<div>\n",
       "<style scoped>\n",
       "    .dataframe tbody tr th:only-of-type {\n",
       "        vertical-align: middle;\n",
       "    }\n",
       "\n",
       "    .dataframe tbody tr th {\n",
       "        vertical-align: top;\n",
       "    }\n",
       "\n",
       "    .dataframe thead th {\n",
       "        text-align: right;\n",
       "    }\n",
       "</style>\n",
       "<table border=\"1\" class=\"dataframe\">\n",
       "  <thead>\n",
       "    <tr style=\"text-align: right;\">\n",
       "      <th></th>\n",
       "      <th>event_id</th>\n",
       "      <th>event_type</th>\n",
       "      <th>event_timestamp</th>\n",
       "      <th>event_data.user_id</th>\n",
       "      <th>event_data.transaction_currency</th>\n",
       "      <th>event_data.transaction_amount</th>\n",
       "      <th>event_data.country</th>\n",
       "      <th>event_data.name</th>\n",
       "      <th>event_data.device_os</th>\n",
       "    </tr>\n",
       "  </thead>\n",
       "  <tbody>\n",
       "  </tbody>\n",
       "</table>\n",
       "</div>"
      ],
      "text/plain": [
       "Empty DataFrame\n",
       "Columns: [event_id, event_type, event_timestamp, event_data.user_id, event_data.transaction_currency, event_data.transaction_amount, event_data.country, event_data.name, event_data.device_os]\n",
       "Index: []"
      ]
     },
     "metadata": {},
     "output_type": "display_data"
    }
   ],
   "source": [
    "display(events[(events['event_type'] == 'login') & (events[['event_data.transaction_currency', 'event_data.transaction_amount', 'event_data.country', 'event_data.name', 'event_data.device_os']].notna().any(axis=1))])\n",
    "display(events[(events['event_type'] == 'registration') & (events[['event_data.transaction_currency', 'event_data.transaction_amount']].notna().any(axis=1))])\n",
    "display(events[(events['event_type'] == 'transaction') & (events[['event_data.country', 'event_data.name', 'event_data.device_os']].notna().any(axis=1))])"
   ]
  },
  {
   "cell_type": "markdown",
   "metadata": {},
   "source": [
    "Ne postoje dogadjaji koji imaju podatke koji im ne pripadaju."
   ]
  },
  {
   "cell_type": "markdown",
   "metadata": {},
   "source": [
    "Ispitajmo da li  su pri registraciji svi OS uredjaja u validnom skupu (\"Valid values are iOS, Android and Web\") i da li ima nevalidnih drzava."
   ]
  },
  {
   "cell_type": "code",
   "execution_count": 75,
   "metadata": {},
   "outputs": [
    {
     "data": {
      "text/html": [
       "<div>\n",
       "<style scoped>\n",
       "    .dataframe tbody tr th:only-of-type {\n",
       "        vertical-align: middle;\n",
       "    }\n",
       "\n",
       "    .dataframe tbody tr th {\n",
       "        vertical-align: top;\n",
       "    }\n",
       "\n",
       "    .dataframe thead th {\n",
       "        text-align: right;\n",
       "    }\n",
       "</style>\n",
       "<table border=\"1\" class=\"dataframe\">\n",
       "  <thead>\n",
       "    <tr style=\"text-align: right;\">\n",
       "      <th></th>\n",
       "      <th>event_id</th>\n",
       "      <th>event_type</th>\n",
       "      <th>event_timestamp</th>\n",
       "      <th>event_data.user_id</th>\n",
       "      <th>event_data.transaction_currency</th>\n",
       "      <th>event_data.transaction_amount</th>\n",
       "      <th>event_data.country</th>\n",
       "      <th>event_data.name</th>\n",
       "      <th>event_data.device_os</th>\n",
       "    </tr>\n",
       "  </thead>\n",
       "  <tbody>\n",
       "  </tbody>\n",
       "</table>\n",
       "</div>"
      ],
      "text/plain": [
       "Empty DataFrame\n",
       "Columns: [event_id, event_type, event_timestamp, event_data.user_id, event_data.transaction_currency, event_data.transaction_amount, event_data.country, event_data.name, event_data.device_os]\n",
       "Index: []"
      ]
     },
     "metadata": {},
     "output_type": "display_data"
    },
    {
     "data": {
      "text/html": [
       "<div>\n",
       "<style scoped>\n",
       "    .dataframe tbody tr th:only-of-type {\n",
       "        vertical-align: middle;\n",
       "    }\n",
       "\n",
       "    .dataframe tbody tr th {\n",
       "        vertical-align: top;\n",
       "    }\n",
       "\n",
       "    .dataframe thead th {\n",
       "        text-align: right;\n",
       "    }\n",
       "</style>\n",
       "<table border=\"1\" class=\"dataframe\">\n",
       "  <thead>\n",
       "    <tr style=\"text-align: right;\">\n",
       "      <th></th>\n",
       "      <th>event_id</th>\n",
       "      <th>event_type</th>\n",
       "      <th>event_timestamp</th>\n",
       "      <th>event_data.user_id</th>\n",
       "      <th>event_data.transaction_currency</th>\n",
       "      <th>event_data.transaction_amount</th>\n",
       "      <th>event_data.country</th>\n",
       "      <th>event_data.name</th>\n",
       "      <th>event_data.device_os</th>\n",
       "    </tr>\n",
       "  </thead>\n",
       "  <tbody>\n",
       "    <tr>\n",
       "      <th>23662</th>\n",
       "      <td>713355</td>\n",
       "      <td>registration</td>\n",
       "      <td>2010-05-17 14:47:41</td>\n",
       "      <td>1c0afec-5bcb-11ed-842-8afbeb371208</td>\n",
       "      <td>NaN</td>\n",
       "      <td>NaN</td>\n",
       "      <td>Narnia</td>\n",
       "      <td>Kim Baker</td>\n",
       "      <td>Android</td>\n",
       "    </tr>\n",
       "  </tbody>\n",
       "</table>\n",
       "</div>"
      ],
      "text/plain": [
       "       event_id    event_type     event_timestamp  \\\n",
       "23662    713355  registration 2010-05-17 14:47:41   \n",
       "\n",
       "                       event_data.user_id event_data.transaction_currency  \\\n",
       "23662  1c0afec-5bcb-11ed-842-8afbeb371208                             NaN   \n",
       "\n",
       "       event_data.transaction_amount event_data.country event_data.name  \\\n",
       "23662                            NaN             Narnia       Kim Baker   \n",
       "\n",
       "      event_data.device_os  \n",
       "23662              Android  "
      ]
     },
     "metadata": {},
     "output_type": "display_data"
    }
   ],
   "source": [
    "registrationsEvents = events[events['event_type'] == 'registration']\n",
    "\n",
    "validDeviceOS = ['iOS', 'Android', 'Web']\n",
    "invalidDeviceOS = registrationsEvents[~registrationsEvents['event_data.device_os'].isin(validDeviceOS)]\n",
    "display(invalidDeviceOS)\n",
    "\n",
    "\n",
    "invalidCountry = registrationsEvents[registrationsEvents['event_data.country'].str.len() != 2]\n",
    "display(invalidCountry)"
   ]
  },
  {
   "cell_type": "markdown",
   "metadata": {},
   "source": [
    "Sve registracije sada imaju validne OS uredjaja. Medjutim postoji transakcija koja ima nevalidnu zemlju (barem u realnom svetu :D) i zato je brisemo. "
   ]
  },
  {
   "cell_type": "code",
   "execution_count": 76,
   "metadata": {},
   "outputs": [
    {
     "data": {
      "text/plain": [
       "27824"
      ]
     },
     "execution_count": 76,
     "metadata": {},
     "output_type": "execute_result"
    }
   ],
   "source": [
    "events = events[events['event_id'] != 713355]\n",
    "len(events)"
   ]
  },
  {
   "cell_type": "code",
   "execution_count": 77,
   "metadata": {},
   "outputs": [
    {
     "data": {
      "text/plain": [
       "event_data.country\n",
       "DE    1889\n",
       "ES    1884\n",
       "IT    1825\n",
       "US    1884\n",
       "dtype: int64"
      ]
     },
     "metadata": {},
     "output_type": "display_data"
    }
   ],
   "source": [
    "registrationsEvents = events[events['event_type'] == 'registration']\n",
    "\n",
    "countriesCounter = registrationsEvents.groupby('event_data.country',sort=True).size()\n",
    "display(countriesCounter)"
   ]
  },
  {
   "cell_type": "markdown",
   "metadata": {},
   "source": [
    "Sada sve registracije imaju validnu drzavu (tj. njenu dvoslovnu oznaku). Sagledajmo ime korisnika pri registraciji."
   ]
  },
  {
   "cell_type": "code",
   "execution_count": 78,
   "metadata": {},
   "outputs": [
    {
     "data": {
      "text/html": [
       "<div>\n",
       "<style scoped>\n",
       "    .dataframe tbody tr th:only-of-type {\n",
       "        vertical-align: middle;\n",
       "    }\n",
       "\n",
       "    .dataframe tbody tr th {\n",
       "        vertical-align: top;\n",
       "    }\n",
       "\n",
       "    .dataframe thead th {\n",
       "        text-align: right;\n",
       "    }\n",
       "</style>\n",
       "<table border=\"1\" class=\"dataframe\">\n",
       "  <thead>\n",
       "    <tr style=\"text-align: right;\">\n",
       "      <th></th>\n",
       "      <th>event_id</th>\n",
       "      <th>event_type</th>\n",
       "      <th>event_timestamp</th>\n",
       "      <th>event_data.user_id</th>\n",
       "      <th>event_data.transaction_currency</th>\n",
       "      <th>event_data.transaction_amount</th>\n",
       "      <th>event_data.country</th>\n",
       "      <th>event_data.name</th>\n",
       "      <th>event_data.device_os</th>\n",
       "    </tr>\n",
       "  </thead>\n",
       "  <tbody>\n",
       "  </tbody>\n",
       "</table>\n",
       "</div>"
      ],
      "text/plain": [
       "Empty DataFrame\n",
       "Columns: [event_id, event_type, event_timestamp, event_data.user_id, event_data.transaction_currency, event_data.transaction_amount, event_data.country, event_data.name, event_data.device_os]\n",
       "Index: []"
      ]
     },
     "metadata": {},
     "output_type": "display_data"
    },
    {
     "data": {
      "text/html": [
       "<div>\n",
       "<style scoped>\n",
       "    .dataframe tbody tr th:only-of-type {\n",
       "        vertical-align: middle;\n",
       "    }\n",
       "\n",
       "    .dataframe tbody tr th {\n",
       "        vertical-align: top;\n",
       "    }\n",
       "\n",
       "    .dataframe thead th {\n",
       "        text-align: right;\n",
       "    }\n",
       "</style>\n",
       "<table border=\"1\" class=\"dataframe\">\n",
       "  <thead>\n",
       "    <tr style=\"text-align: right;\">\n",
       "      <th></th>\n",
       "      <th>event_id</th>\n",
       "      <th>event_type</th>\n",
       "      <th>event_timestamp</th>\n",
       "      <th>event_data.user_id</th>\n",
       "      <th>event_data.transaction_currency</th>\n",
       "      <th>event_data.transaction_amount</th>\n",
       "      <th>event_data.country</th>\n",
       "      <th>event_data.name</th>\n",
       "      <th>event_data.device_os</th>\n",
       "    </tr>\n",
       "  </thead>\n",
       "  <tbody>\n",
       "  </tbody>\n",
       "</table>\n",
       "</div>"
      ],
      "text/plain": [
       "Empty DataFrame\n",
       "Columns: [event_id, event_type, event_timestamp, event_data.user_id, event_data.transaction_currency, event_data.transaction_amount, event_data.country, event_data.name, event_data.device_os]\n",
       "Index: []"
      ]
     },
     "metadata": {},
     "output_type": "display_data"
    }
   ],
   "source": [
    "display(registrationsEvents[registrationsEvents['event_data.name'].isna()])\n",
    "display(registrationsEvents[registrationsEvents['event_data.name'] == ''])"
   ]
  },
  {
   "cell_type": "markdown",
   "metadata": {},
   "source": [
    "Iako nije obavezno polje pri registraciji, svi korisnici sada imaju ispravno ime."
   ]
  },
  {
   "cell_type": "markdown",
   "metadata": {},
   "source": [
    "Sagledajmo transakcije (tj. dozvoljenu valutu i visinu transakcije)."
   ]
  },
  {
   "cell_type": "code",
   "execution_count": 79,
   "metadata": {},
   "outputs": [
    {
     "data": {
      "text/html": [
       "<div>\n",
       "<style scoped>\n",
       "    .dataframe tbody tr th:only-of-type {\n",
       "        vertical-align: middle;\n",
       "    }\n",
       "\n",
       "    .dataframe tbody tr th {\n",
       "        vertical-align: top;\n",
       "    }\n",
       "\n",
       "    .dataframe thead th {\n",
       "        text-align: right;\n",
       "    }\n",
       "</style>\n",
       "<table border=\"1\" class=\"dataframe\">\n",
       "  <thead>\n",
       "    <tr style=\"text-align: right;\">\n",
       "      <th></th>\n",
       "      <th>event_id</th>\n",
       "      <th>event_type</th>\n",
       "      <th>event_timestamp</th>\n",
       "      <th>event_data.user_id</th>\n",
       "      <th>event_data.transaction_currency</th>\n",
       "      <th>event_data.transaction_amount</th>\n",
       "      <th>event_data.country</th>\n",
       "      <th>event_data.name</th>\n",
       "      <th>event_data.device_os</th>\n",
       "    </tr>\n",
       "  </thead>\n",
       "  <tbody>\n",
       "  </tbody>\n",
       "</table>\n",
       "</div>"
      ],
      "text/plain": [
       "Empty DataFrame\n",
       "Columns: [event_id, event_type, event_timestamp, event_data.user_id, event_data.transaction_currency, event_data.transaction_amount, event_data.country, event_data.name, event_data.device_os]\n",
       "Index: []"
      ]
     },
     "metadata": {},
     "output_type": "display_data"
    },
    {
     "data": {
      "text/html": [
       "<div>\n",
       "<style scoped>\n",
       "    .dataframe tbody tr th:only-of-type {\n",
       "        vertical-align: middle;\n",
       "    }\n",
       "\n",
       "    .dataframe tbody tr th {\n",
       "        vertical-align: top;\n",
       "    }\n",
       "\n",
       "    .dataframe thead th {\n",
       "        text-align: right;\n",
       "    }\n",
       "</style>\n",
       "<table border=\"1\" class=\"dataframe\">\n",
       "  <thead>\n",
       "    <tr style=\"text-align: right;\">\n",
       "      <th></th>\n",
       "      <th>event_id</th>\n",
       "      <th>event_type</th>\n",
       "      <th>event_timestamp</th>\n",
       "      <th>event_data.user_id</th>\n",
       "      <th>event_data.transaction_currency</th>\n",
       "      <th>event_data.transaction_amount</th>\n",
       "      <th>event_data.country</th>\n",
       "      <th>event_data.name</th>\n",
       "      <th>event_data.device_os</th>\n",
       "    </tr>\n",
       "  </thead>\n",
       "  <tbody>\n",
       "    <tr>\n",
       "      <th>12396</th>\n",
       "      <td>279133166</td>\n",
       "      <td>transaction</td>\n",
       "      <td>2010-05-22 15:38:49</td>\n",
       "      <td>37e8952a-5bcb-11ed-84c2-8afbeb371208</td>\n",
       "      <td>Money</td>\n",
       "      <td>1.99</td>\n",
       "      <td>NaN</td>\n",
       "      <td>NaN</td>\n",
       "      <td>NaN</td>\n",
       "    </tr>\n",
       "  </tbody>\n",
       "</table>\n",
       "</div>"
      ],
      "text/plain": [
       "        event_id   event_type     event_timestamp  \\\n",
       "12396  279133166  transaction 2010-05-22 15:38:49   \n",
       "\n",
       "                         event_data.user_id event_data.transaction_currency  \\\n",
       "12396  37e8952a-5bcb-11ed-84c2-8afbeb371208                           Money   \n",
       "\n",
       "       event_data.transaction_amount event_data.country event_data.name  \\\n",
       "12396                           1.99                NaN             NaN   \n",
       "\n",
       "      event_data.device_os  \n",
       "12396                  NaN  "
      ]
     },
     "metadata": {},
     "output_type": "display_data"
    }
   ],
   "source": [
    "transactionsEvents = events[events['event_type'] == 'transaction']\n",
    "validAmount = [0.99, 1.99, 2.99, 4.99, 9.99]\n",
    "\n",
    "invalidAmount = transactionsEvents[~transactionsEvents['event_data.transaction_amount'].isin(validAmount)]\n",
    "display(invalidAmount)\n",
    "\n",
    "validCurrency = ['EUR', 'USD']\n",
    "invalidCurrency = transactionsEvents[~transactionsEvents['event_data.transaction_currency'].isin(validCurrency)]\n",
    "display(invalidCurrency)"
   ]
  },
  {
   "cell_type": "markdown",
   "metadata": {},
   "source": [
    "Sve transakcije sad imaju validan iznos uplate. Medjutim, transakcija koja koristi valutu \"Money\" nije validna i zato je uklanjamo."
   ]
  },
  {
   "cell_type": "code",
   "execution_count": 80,
   "metadata": {},
   "outputs": [
    {
     "data": {
      "text/plain": [
       "27823"
      ]
     },
     "execution_count": 80,
     "metadata": {},
     "output_type": "execute_result"
    }
   ],
   "source": [
    "events = events[events['event_id'] != 279133166]\n",
    "len(events)"
   ]
  },
  {
   "cell_type": "markdown",
   "metadata": {},
   "source": [
    "Sagledajmo velicinu user_id."
   ]
  },
  {
   "cell_type": "code",
   "execution_count": 81,
   "metadata": {},
   "outputs": [
    {
     "data": {
      "text/html": [
       "<div>\n",
       "<style scoped>\n",
       "    .dataframe tbody tr th:only-of-type {\n",
       "        vertical-align: middle;\n",
       "    }\n",
       "\n",
       "    .dataframe tbody tr th {\n",
       "        vertical-align: top;\n",
       "    }\n",
       "\n",
       "    .dataframe thead th {\n",
       "        text-align: right;\n",
       "    }\n",
       "</style>\n",
       "<table border=\"1\" class=\"dataframe\">\n",
       "  <thead>\n",
       "    <tr style=\"text-align: right;\">\n",
       "      <th></th>\n",
       "      <th>event_id</th>\n",
       "      <th>event_type</th>\n",
       "      <th>event_timestamp</th>\n",
       "      <th>event_data.user_id</th>\n",
       "      <th>event_data.transaction_currency</th>\n",
       "      <th>event_data.transaction_amount</th>\n",
       "      <th>event_data.country</th>\n",
       "      <th>event_data.name</th>\n",
       "      <th>event_data.device_os</th>\n",
       "    </tr>\n",
       "  </thead>\n",
       "  <tbody>\n",
       "  </tbody>\n",
       "</table>\n",
       "</div>"
      ],
      "text/plain": [
       "Empty DataFrame\n",
       "Columns: [event_id, event_type, event_timestamp, event_data.user_id, event_data.transaction_currency, event_data.transaction_amount, event_data.country, event_data.name, event_data.device_os]\n",
       "Index: []"
      ]
     },
     "metadata": {},
     "output_type": "display_data"
    }
   ],
   "source": [
    "display(events[events['event_data.user_id'].str.len() != 36])"
   ]
  },
  {
   "cell_type": "markdown",
   "metadata": {},
   "source": [
    "Svi dogadjaji imaju user_id iste velicine."
   ]
  },
  {
   "cell_type": "code",
   "execution_count": 82,
   "metadata": {},
   "outputs": [
    {
     "data": {
      "text/html": [
       "<div>\n",
       "<style scoped>\n",
       "    .dataframe tbody tr th:only-of-type {\n",
       "        vertical-align: middle;\n",
       "    }\n",
       "\n",
       "    .dataframe tbody tr th {\n",
       "        vertical-align: top;\n",
       "    }\n",
       "\n",
       "    .dataframe thead th {\n",
       "        text-align: right;\n",
       "    }\n",
       "</style>\n",
       "<table border=\"1\" class=\"dataframe\">\n",
       "  <thead>\n",
       "    <tr style=\"text-align: right;\">\n",
       "      <th></th>\n",
       "      <th>event_id</th>\n",
       "      <th>event_timestamp</th>\n",
       "      <th>event_data.user_id</th>\n",
       "    </tr>\n",
       "  </thead>\n",
       "  <tbody>\n",
       "    <tr>\n",
       "      <th>1</th>\n",
       "      <td>11528</td>\n",
       "      <td>2010-05-19 23:52:11</td>\n",
       "      <td>1b53b16a-5bcb-11ed-84c2-8afbeb371208</td>\n",
       "    </tr>\n",
       "    <tr>\n",
       "      <th>2</th>\n",
       "      <td>13381</td>\n",
       "      <td>2010-05-20 23:59:15</td>\n",
       "      <td>17f29360-5bcb-11ed-84c2-8afbeb371208</td>\n",
       "    </tr>\n",
       "    <tr>\n",
       "      <th>3</th>\n",
       "      <td>8075</td>\n",
       "      <td>2010-05-14 23:53:29</td>\n",
       "      <td>184d5566-5bcb-11ed-84c2-8afbeb371208</td>\n",
       "    </tr>\n",
       "    <tr>\n",
       "      <th>5</th>\n",
       "      <td>8385</td>\n",
       "      <td>2010-05-15 23:59:02</td>\n",
       "      <td>18d5c252-5bcb-11ed-84c2-8afbeb371208</td>\n",
       "    </tr>\n",
       "    <tr>\n",
       "      <th>7</th>\n",
       "      <td>18432</td>\n",
       "      <td>2010-05-21 23:59:44</td>\n",
       "      <td>305ce5f4-5bcb-11ed-84c2-8afbeb371208</td>\n",
       "    </tr>\n",
       "  </tbody>\n",
       "</table>\n",
       "</div>"
      ],
      "text/plain": [
       "   event_id     event_timestamp                    event_data.user_id\n",
       "1     11528 2010-05-19 23:52:11  1b53b16a-5bcb-11ed-84c2-8afbeb371208\n",
       "2     13381 2010-05-20 23:59:15  17f29360-5bcb-11ed-84c2-8afbeb371208\n",
       "3      8075 2010-05-14 23:53:29  184d5566-5bcb-11ed-84c2-8afbeb371208\n",
       "5      8385 2010-05-15 23:59:02  18d5c252-5bcb-11ed-84c2-8afbeb371208\n",
       "7     18432 2010-05-21 23:59:44  305ce5f4-5bcb-11ed-84c2-8afbeb371208"
      ]
     },
     "metadata": {},
     "output_type": "display_data"
    },
    {
     "data": {
      "text/html": [
       "<div>\n",
       "<style scoped>\n",
       "    .dataframe tbody tr th:only-of-type {\n",
       "        vertical-align: middle;\n",
       "    }\n",
       "\n",
       "    .dataframe tbody tr th {\n",
       "        vertical-align: top;\n",
       "    }\n",
       "\n",
       "    .dataframe thead th {\n",
       "        text-align: right;\n",
       "    }\n",
       "</style>\n",
       "<table border=\"1\" class=\"dataframe\">\n",
       "  <thead>\n",
       "    <tr style=\"text-align: right;\">\n",
       "      <th></th>\n",
       "      <th>event_id</th>\n",
       "      <th>event_timestamp</th>\n",
       "      <th>event_data.user_id</th>\n",
       "      <th>event_data.country</th>\n",
       "      <th>event_data.name</th>\n",
       "      <th>event_data.device_os</th>\n",
       "    </tr>\n",
       "  </thead>\n",
       "  <tbody>\n",
       "    <tr>\n",
       "      <th>4</th>\n",
       "      <td>4340</td>\n",
       "      <td>2010-05-21 17:15:43</td>\n",
       "      <td>361d78d2-5bcb-11ed-84c2-8afbeb371208</td>\n",
       "      <td>DE</td>\n",
       "      <td>Ing. Ekkehard Gude</td>\n",
       "      <td>Android</td>\n",
       "    </tr>\n",
       "    <tr>\n",
       "      <th>6</th>\n",
       "      <td>341</td>\n",
       "      <td>2010-05-15 23:06:02</td>\n",
       "      <td>1946553a-5bcb-11ed-84c2-8afbeb371208</td>\n",
       "      <td>ES</td>\n",
       "      <td>Trinidad Plácido Río Soto</td>\n",
       "      <td>Web</td>\n",
       "    </tr>\n",
       "    <tr>\n",
       "      <th>17</th>\n",
       "      <td>4752</td>\n",
       "      <td>2010-05-21 01:25:26</td>\n",
       "      <td>3917f24c-5bcb-11ed-84c2-8afbeb371208</td>\n",
       "      <td>DE</td>\n",
       "      <td>Bianka Meyer</td>\n",
       "      <td>Web</td>\n",
       "    </tr>\n",
       "    <tr>\n",
       "      <th>20</th>\n",
       "      <td>4483</td>\n",
       "      <td>2010-05-21 09:17:40</td>\n",
       "      <td>37246254-5bcb-11ed-84c2-8afbeb371208</td>\n",
       "      <td>ES</td>\n",
       "      <td>Adán Ortiz Salas</td>\n",
       "      <td>iOS</td>\n",
       "    </tr>\n",
       "    <tr>\n",
       "      <th>24</th>\n",
       "      <td>2934</td>\n",
       "      <td>2010-05-20 12:27:42</td>\n",
       "      <td>2bf58930-5bcb-11ed-84c2-8afbeb371208</td>\n",
       "      <td>DE</td>\n",
       "      <td>Hans-Dieter Trupp</td>\n",
       "      <td>Android</td>\n",
       "    </tr>\n",
       "  </tbody>\n",
       "</table>\n",
       "</div>"
      ],
      "text/plain": [
       "    event_id     event_timestamp                    event_data.user_id  \\\n",
       "4       4340 2010-05-21 17:15:43  361d78d2-5bcb-11ed-84c2-8afbeb371208   \n",
       "6        341 2010-05-15 23:06:02  1946553a-5bcb-11ed-84c2-8afbeb371208   \n",
       "17      4752 2010-05-21 01:25:26  3917f24c-5bcb-11ed-84c2-8afbeb371208   \n",
       "20      4483 2010-05-21 09:17:40  37246254-5bcb-11ed-84c2-8afbeb371208   \n",
       "24      2934 2010-05-20 12:27:42  2bf58930-5bcb-11ed-84c2-8afbeb371208   \n",
       "\n",
       "   event_data.country            event_data.name event_data.device_os  \n",
       "4                  DE         Ing. Ekkehard Gude              Android  \n",
       "6                  ES  Trinidad Plácido Río Soto                  Web  \n",
       "17                 DE               Bianka Meyer                  Web  \n",
       "20                 ES           Adán Ortiz Salas                  iOS  \n",
       "24                 DE          Hans-Dieter Trupp              Android  "
      ]
     },
     "metadata": {},
     "output_type": "display_data"
    },
    {
     "data": {
      "text/html": [
       "<div>\n",
       "<style scoped>\n",
       "    .dataframe tbody tr th:only-of-type {\n",
       "        vertical-align: middle;\n",
       "    }\n",
       "\n",
       "    .dataframe tbody tr th {\n",
       "        vertical-align: top;\n",
       "    }\n",
       "\n",
       "    .dataframe thead th {\n",
       "        text-align: right;\n",
       "    }\n",
       "</style>\n",
       "<table border=\"1\" class=\"dataframe\">\n",
       "  <thead>\n",
       "    <tr style=\"text-align: right;\">\n",
       "      <th></th>\n",
       "      <th>event_id</th>\n",
       "      <th>event_timestamp</th>\n",
       "      <th>event_data.user_id</th>\n",
       "      <th>event_data.transaction_currency</th>\n",
       "      <th>event_data.transaction_amount</th>\n",
       "    </tr>\n",
       "  </thead>\n",
       "  <tbody>\n",
       "    <tr>\n",
       "      <th>0</th>\n",
       "      <td>28039</td>\n",
       "      <td>2010-05-22 23:57:47</td>\n",
       "      <td>36835c60-5bcb-11ed-84c2-8afbeb371208</td>\n",
       "      <td>EUR</td>\n",
       "      <td>1.99</td>\n",
       "    </tr>\n",
       "    <tr>\n",
       "      <th>152</th>\n",
       "      <td>27707</td>\n",
       "      <td>2010-05-21 23:54:19</td>\n",
       "      <td>1773880e-5bcb-11ed-84c2-8afbeb371208</td>\n",
       "      <td>USD</td>\n",
       "      <td>4.99</td>\n",
       "    </tr>\n",
       "    <tr>\n",
       "      <th>240</th>\n",
       "      <td>27498</td>\n",
       "      <td>2010-05-18 22:57:33</td>\n",
       "      <td>18bde29a-5bcb-11ed-84c2-8afbeb371208</td>\n",
       "      <td>USD</td>\n",
       "      <td>1.99</td>\n",
       "    </tr>\n",
       "    <tr>\n",
       "      <th>415</th>\n",
       "      <td>27608</td>\n",
       "      <td>2010-05-20 22:05:38</td>\n",
       "      <td>2568a1ec-5bcb-11ed-84c2-8afbeb371208</td>\n",
       "      <td>EUR</td>\n",
       "      <td>0.99</td>\n",
       "    </tr>\n",
       "    <tr>\n",
       "      <th>502</th>\n",
       "      <td>27619</td>\n",
       "      <td>2010-05-20 22:48:57</td>\n",
       "      <td>2b3a0020-5bcb-11ed-84c2-8afbeb371208</td>\n",
       "      <td>USD</td>\n",
       "      <td>0.99</td>\n",
       "    </tr>\n",
       "  </tbody>\n",
       "</table>\n",
       "</div>"
      ],
      "text/plain": [
       "     event_id     event_timestamp                    event_data.user_id  \\\n",
       "0       28039 2010-05-22 23:57:47  36835c60-5bcb-11ed-84c2-8afbeb371208   \n",
       "152     27707 2010-05-21 23:54:19  1773880e-5bcb-11ed-84c2-8afbeb371208   \n",
       "240     27498 2010-05-18 22:57:33  18bde29a-5bcb-11ed-84c2-8afbeb371208   \n",
       "415     27608 2010-05-20 22:05:38  2568a1ec-5bcb-11ed-84c2-8afbeb371208   \n",
       "502     27619 2010-05-20 22:48:57  2b3a0020-5bcb-11ed-84c2-8afbeb371208   \n",
       "\n",
       "    event_data.transaction_currency  event_data.transaction_amount  \n",
       "0                               EUR                           1.99  \n",
       "152                             USD                           4.99  \n",
       "240                             USD                           1.99  \n",
       "415                             EUR                           0.99  \n",
       "502                             USD                           0.99  "
      ]
     },
     "metadata": {},
     "output_type": "display_data"
    }
   ],
   "source": [
    "logins = events[events['event_type'] == 'login'][['event_id', 'event_timestamp', 'event_data.user_id']]\n",
    "display(logins.head())\n",
    "registrations = events[events['event_type'] == 'registration'][['event_id', 'event_timestamp', 'event_data.user_id', 'event_data.country', 'event_data.name', 'event_data.device_os']]\n",
    "display(registrations.head())\n",
    "transactions = events[events['event_type'] == 'transaction'][['event_id', 'event_timestamp', 'event_data.user_id', 'event_data.transaction_currency', 'event_data.transaction_amount']]\n",
    "display(transactions.head())"
   ]
  },
  {
   "cell_type": "code",
   "execution_count": 83,
   "metadata": {},
   "outputs": [
    {
     "name": "stdout",
     "output_type": "stream",
     "text": [
      "<class 'pandas.core.frame.DataFrame'>\n",
      "RangeIndex: 2 entries, 0 to 1\n",
      "Data columns (total 2 columns):\n",
      " #   Column       Non-Null Count  Dtype \n",
      "---  ------       --------------  ----- \n",
      " 0   currency     2 non-null      object\n",
      " 1   rate_to_usd  2 non-null      object\n",
      "dtypes: object(2)\n",
      "memory usage: 160.0+ bytes\n"
     ]
    },
    {
     "data": {
      "text/html": [
       "<div>\n",
       "<style scoped>\n",
       "    .dataframe tbody tr th:only-of-type {\n",
       "        vertical-align: middle;\n",
       "    }\n",
       "\n",
       "    .dataframe tbody tr th {\n",
       "        vertical-align: top;\n",
       "    }\n",
       "\n",
       "    .dataframe thead th {\n",
       "        text-align: right;\n",
       "    }\n",
       "</style>\n",
       "<table border=\"1\" class=\"dataframe\">\n",
       "  <thead>\n",
       "    <tr style=\"text-align: right;\">\n",
       "      <th></th>\n",
       "      <th>currency</th>\n",
       "      <th>rate_to_usd</th>\n",
       "    </tr>\n",
       "  </thead>\n",
       "  <tbody>\n",
       "    <tr>\n",
       "      <th>0</th>\n",
       "      <td>USD</td>\n",
       "      <td>1</td>\n",
       "    </tr>\n",
       "    <tr>\n",
       "      <th>1</th>\n",
       "      <td>EUR</td>\n",
       "      <td>1.3</td>\n",
       "    </tr>\n",
       "  </tbody>\n",
       "</table>\n",
       "</div>"
      ],
      "text/plain": [
       "  currency rate_to_usd\n",
       "0      USD           1\n",
       "1      EUR         1.3"
      ]
     },
     "metadata": {},
     "output_type": "display_data"
    },
    {
     "name": "stdout",
     "output_type": "stream",
     "text": [
      "EUR_TO_USD:  1.3\n"
     ]
    }
   ],
   "source": [
    "with open('3. exchange_rates.jsonl') as f:\n",
    "    exchangeRatesJson = [json.loads(line) for line in f]\n",
    "\n",
    "exchangeRates = pd.json_normalize(exchangeRatesJson)\n",
    "\n",
    "exchangeRates.info()\n",
    "display(exchangeRates.head())\n",
    "\n",
    "EUR_TO_USD = float(exchangeRates.iloc[1]['rate_to_usd'])\n",
    "print('EUR_TO_USD: ', EUR_TO_USD)"
   ]
  },
  {
   "cell_type": "code",
   "execution_count": 84,
   "metadata": {},
   "outputs": [
    {
     "data": {
      "text/html": [
       "<div>\n",
       "<style scoped>\n",
       "    .dataframe tbody tr th:only-of-type {\n",
       "        vertical-align: middle;\n",
       "    }\n",
       "\n",
       "    .dataframe tbody tr th {\n",
       "        vertical-align: top;\n",
       "    }\n",
       "\n",
       "    .dataframe thead th {\n",
       "        text-align: right;\n",
       "    }\n",
       "</style>\n",
       "<table border=\"1\" class=\"dataframe\">\n",
       "  <thead>\n",
       "    <tr style=\"text-align: right;\">\n",
       "      <th></th>\n",
       "      <th>event_id</th>\n",
       "      <th>event_timestamp</th>\n",
       "      <th>event_data.user_id</th>\n",
       "      <th>event_data.transaction_currency</th>\n",
       "      <th>event_data.transaction_amount</th>\n",
       "      <th>transaction_amount_usd</th>\n",
       "    </tr>\n",
       "  </thead>\n",
       "  <tbody>\n",
       "    <tr>\n",
       "      <th>0</th>\n",
       "      <td>28039</td>\n",
       "      <td>2010-05-22 23:57:47</td>\n",
       "      <td>36835c60-5bcb-11ed-84c2-8afbeb371208</td>\n",
       "      <td>EUR</td>\n",
       "      <td>1.99</td>\n",
       "      <td>2.587</td>\n",
       "    </tr>\n",
       "    <tr>\n",
       "      <th>152</th>\n",
       "      <td>27707</td>\n",
       "      <td>2010-05-21 23:54:19</td>\n",
       "      <td>1773880e-5bcb-11ed-84c2-8afbeb371208</td>\n",
       "      <td>USD</td>\n",
       "      <td>4.99</td>\n",
       "      <td>4.990</td>\n",
       "    </tr>\n",
       "    <tr>\n",
       "      <th>240</th>\n",
       "      <td>27498</td>\n",
       "      <td>2010-05-18 22:57:33</td>\n",
       "      <td>18bde29a-5bcb-11ed-84c2-8afbeb371208</td>\n",
       "      <td>USD</td>\n",
       "      <td>1.99</td>\n",
       "      <td>1.990</td>\n",
       "    </tr>\n",
       "    <tr>\n",
       "      <th>415</th>\n",
       "      <td>27608</td>\n",
       "      <td>2010-05-20 22:05:38</td>\n",
       "      <td>2568a1ec-5bcb-11ed-84c2-8afbeb371208</td>\n",
       "      <td>EUR</td>\n",
       "      <td>0.99</td>\n",
       "      <td>1.287</td>\n",
       "    </tr>\n",
       "    <tr>\n",
       "      <th>502</th>\n",
       "      <td>27619</td>\n",
       "      <td>2010-05-20 22:48:57</td>\n",
       "      <td>2b3a0020-5bcb-11ed-84c2-8afbeb371208</td>\n",
       "      <td>USD</td>\n",
       "      <td>0.99</td>\n",
       "      <td>0.990</td>\n",
       "    </tr>\n",
       "  </tbody>\n",
       "</table>\n",
       "</div>"
      ],
      "text/plain": [
       "     event_id     event_timestamp                    event_data.user_id  \\\n",
       "0       28039 2010-05-22 23:57:47  36835c60-5bcb-11ed-84c2-8afbeb371208   \n",
       "152     27707 2010-05-21 23:54:19  1773880e-5bcb-11ed-84c2-8afbeb371208   \n",
       "240     27498 2010-05-18 22:57:33  18bde29a-5bcb-11ed-84c2-8afbeb371208   \n",
       "415     27608 2010-05-20 22:05:38  2568a1ec-5bcb-11ed-84c2-8afbeb371208   \n",
       "502     27619 2010-05-20 22:48:57  2b3a0020-5bcb-11ed-84c2-8afbeb371208   \n",
       "\n",
       "    event_data.transaction_currency  event_data.transaction_amount  \\\n",
       "0                               EUR                           1.99   \n",
       "152                             USD                           4.99   \n",
       "240                             USD                           1.99   \n",
       "415                             EUR                           0.99   \n",
       "502                             USD                           0.99   \n",
       "\n",
       "     transaction_amount_usd  \n",
       "0                     2.587  \n",
       "152                   4.990  \n",
       "240                   1.990  \n",
       "415                   1.287  \n",
       "502                   0.990  "
      ]
     },
     "metadata": {},
     "output_type": "display_data"
    }
   ],
   "source": [
    "import numpy as np\n",
    "transactions['transaction_amount_usd'] = np.where(\n",
    "        transactions['event_data.transaction_currency'] == 'EUR',\n",
    "        EUR_TO_USD * transactions['event_data.transaction_amount'],\n",
    "        transactions['event_data.transaction_amount']\n",
    "    )\n",
    "display(transactions.head())"
   ]
  },
  {
   "cell_type": "markdown",
   "metadata": {},
   "source": [
    "Posto se dodatni poeni dobijaju ako se dalji koraci rade kroz SQL, izvezimo ove tabele u csv fajlove koje cemo importovati u SQL tabele."
   ]
  },
  {
   "cell_type": "code",
   "execution_count": 85,
   "metadata": {},
   "outputs": [],
   "source": [
    "logins.to_csv('logins.csv')\n",
    "registrations.to_csv('registrations.csv')\n",
    "transactions.to_csv('transactions.csv')"
   ]
  }
 ],
 "metadata": {
  "kernelspec": {
   "display_name": "Python 3",
   "language": "python",
   "name": "python3"
  },
  "language_info": {
   "codemirror_mode": {
    "name": "ipython",
    "version": 3
   },
   "file_extension": ".py",
   "mimetype": "text/x-python",
   "name": "python",
   "nbconvert_exporter": "python",
   "pygments_lexer": "ipython3",
   "version": "3.8.3"
  }
 },
 "nbformat": 4,
 "nbformat_minor": 4
}
